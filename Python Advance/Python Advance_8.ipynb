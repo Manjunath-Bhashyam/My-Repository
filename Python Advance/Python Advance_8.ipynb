{
 "cells": [
  {
   "cell_type": "raw",
   "id": "9cccfb3a",
   "metadata": {},
   "source": [
    "Q1. What are the two latest user-defined exception constraints in Python 3.X?\n",
    "\n",
    "--> In 3.X, exceptions must be defined by classes i.e. a class instance object is raised and caught.\n",
    "--> In addition, exception classes must be derived from the built-in class BaseException. Most programs inherit from its Exception subclass, to support catchall handlers for normal kinds of exceptions."
   ]
  },
  {
   "cell_type": "code",
   "execution_count": 1,
   "id": "254b6e86",
   "metadata": {},
   "outputs": [],
   "source": [
    "#Ex:\n",
    "try:\n",
    "    pass\n",
    "except Exception as e:\n",
    "    print (e)"
   ]
  },
  {
   "cell_type": "raw",
   "id": "152f734c",
   "metadata": {},
   "source": [
    "Q2. How are class-based exceptions that have been raised matched to handlers?\n",
    "\n",
    "--> Class-based exceptions match by superclass relationships by naming a superclass in an exception handler will catch instances of that class, as well as instances of any of its subclasses lower in the class tree. Because of this, we can think of superclasses as general exception categories and subclasses as more specific types of exceptions within those categories."
   ]
  },
  {
   "cell_type": "raw",
   "id": "95759e49",
   "metadata": {},
   "source": [
    "Q3. Describe two methods for attaching context information to exception artefacts.\n",
    "\n",
    "-->  We can attach context information to class-based exceptions by filling out instance attributes in the instance object raised, usually in a custom class constructor.\n",
    "--> For simpler needs, built-in exception superclasses provide a constructor that stores its arguments on the instance automatically (as a tuple in the attribute args).\n",
    "--> In exception handlers, we list a variable to be assigned to the raised instance then go through this name to access attached state information and call any methods defined in the class."
   ]
  },
  {
   "cell_type": "raw",
   "id": "ba38c6f7",
   "metadata": {},
   "source": [
    "Q4. Describe two methods for specifying the text of an exception object's error message.\n",
    "\n",
    "--> The error message text in class-based exceptions can be specified with a custom __str__ operator overloading method.\n",
    "--> print and str automatically fetch the display string of an exception object when it is printed either explicitly or as part of an error message.\n",
    "--> Our built-in exception superclasses also automatically displays anything we pass to the class constructor."
   ]
  },
  {
   "cell_type": "raw",
   "id": "dc28447b",
   "metadata": {},
   "source": [
    "Q5. Why do you no longer use string-based exceptions?\n",
    "\n",
    "--> The main reason for which the string-based exceptions are no longer used is : String-based exceptions do not support categories, state information or behavior inheritance in the way class-based exceptions do. In practice, this made string-based exceptions easier to use at first when programs were small, but more complex to use as programs grew larger."
   ]
  }
 ],
 "metadata": {
  "kernelspec": {
   "display_name": "Python 3 (ipykernel)",
   "language": "python",
   "name": "python3"
  },
  "language_info": {
   "codemirror_mode": {
    "name": "ipython",
    "version": 3
   },
   "file_extension": ".py",
   "mimetype": "text/x-python",
   "name": "python",
   "nbconvert_exporter": "python",
   "pygments_lexer": "ipython3",
   "version": "3.9.7"
  }
 },
 "nbformat": 4,
 "nbformat_minor": 5
}
