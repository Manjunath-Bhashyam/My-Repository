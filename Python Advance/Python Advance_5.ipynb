{
 "cells": [
  {
   "cell_type": "raw",
   "id": "577c22d8",
   "metadata": {},
   "source": [
    "Q1. What is the meaning of multiple inheritance?\n",
    "\n",
    "--> Multiple inheritance means Inherting more than one parent/super classes.\n",
    "--> It is useful for mixing together multiple packages of class-based code. The left-to-right order in class statement headers determines the general order of attribute searches."
   ]
  },
  {
   "cell_type": "raw",
   "id": "29f671fc",
   "metadata": {},
   "source": [
    "Q2. What is the concept of delegation?\n",
    "\n",
    "--> Delegation involves wrapping an object in a proxy class, which adds extra behavior and passes other operations to the wrapped object. The proxy retains the interface of the wrapped object."
   ]
  },
  {
   "cell_type": "raw",
   "id": "bd724c46",
   "metadata": {},
   "source": [
    "Q3. What is the concept of composition?\n",
    "\n",
    "--> Composition is also known as \"Has-A Relation\". It is a fundamental concept of Object-Oriented Programming that describes a class that references to one or more objects of other classes as an Instance variable. Here, by using the class name or by creating the object we can access the members of one class inside another class. It enables creating complex types by combining objects of different classes. It means that a class Composite can contain an object of another class Component."
   ]
  },
  {
   "cell_type": "raw",
   "id": "2b6f25e2",
   "metadata": {},
   "source": [
    "Q4. What are bound methods and how do we use them?\n",
    "\n",
    "--> Bound methods combine an instance and a method function. We can call them without passing in an instance object explicitly because the original instance is still available."
   ]
  },
  {
   "cell_type": "raw",
   "id": "12c38c96",
   "metadata": {},
   "source": [
    "Q5. What is the purpose of pseudoprivate attributes?\n",
    "\n",
    "--> Pseudoprivate attributes are those whose names begin but do not end with two leading underscores i.e. __X.\n",
    "--> They are used to localize names to the enclosing class. This includes both class attributes like methods defined inside the class and self instance attributes assigned inside the class’s methods. Such names are expanded to include the class name which makes them generally unique."
   ]
  }
 ],
 "metadata": {
  "kernelspec": {
   "display_name": "Python 3 (ipykernel)",
   "language": "python",
   "name": "python3"
  },
  "language_info": {
   "codemirror_mode": {
    "name": "ipython",
    "version": 3
   },
   "file_extension": ".py",
   "mimetype": "text/x-python",
   "name": "python",
   "nbconvert_exporter": "python",
   "pygments_lexer": "ipython3",
   "version": "3.9.7"
  }
 },
 "nbformat": 4,
 "nbformat_minor": 5
}
