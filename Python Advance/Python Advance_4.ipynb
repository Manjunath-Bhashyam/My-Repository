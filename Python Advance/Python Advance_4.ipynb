{
 "cells": [
  {
   "cell_type": "raw",
   "id": "6061aca6",
   "metadata": {},
   "source": [
    "Q1. Which two operator overloading methods can you use in your classes to support iteration?\n",
    "\n",
    "--> The __iter__ returns the iterator object and is implicitly called at the start of loops.\n",
    "--> The __next__ method returns the next value and is implicitly called at each loop increment. __next__ raises a StopIteration exception when there are no more value to return, which is implicitly captured by looping constructs to stop iterating.\n",
    "--> With respect to operator overloading + operator is used for adding two integers and the same operator when used with strings is used to join two strings when used with lists it helps to merge two lists.\n",
    "--> Another kind of operator overloading is * operator which when used with integers gives the product of two numbers but when used with strings it repeats the strings the given number of times."
   ]
  },
  {
   "cell_type": "raw",
   "id": "3dcfc5c9",
   "metadata": {},
   "source": [
    "Q2. In what contexts do the two operator overloading methods manage printing?\n",
    "\n",
    "--> __str__ & __repr__ methods are the two operator overloading methods by which we can manage printing.\n",
    "--> __str__ is called by the print and str built-in functions. It is usually used for user-friendly displays.\n",
    "--> __repr__ is called by print and str if there is no __str__ and always by the repr built-in, interactive echoes and nested appearances.\n",
    "--> __repr__ is used everywhere, except by print and str when a __str__ is defined. It gives extra details or the object’s as-code form."
   ]
  },
  {
   "cell_type": "raw",
   "id": "3baefc77",
   "metadata": {},
   "source": [
    "Q3. In a class, how do you intercept slice operations?\n",
    "\n",
    "--> Slicing operation is intercepted by the __getitem__ indexing method it is called with a slice object, instead of a simple integer index and slice objects may be passed on or inspected as needed.\n",
    "--> In Python 2.X, __getslice__ (defunct in 3.X) may be used for two-limit slices as well."
   ]
  },
  {
   "cell_type": "raw",
   "id": "72f0639d",
   "metadata": {},
   "source": [
    "Q4. In a class, how do you capture in-place addition?\n",
    "\n",
    "--> In-place addition first tries __iadd__ and then __add__ with an assignment second. The same pattern holds true for all binary operators.\n",
    "--> For right-side add the __radd__ method can be used."
   ]
  },
  {
   "cell_type": "raw",
   "id": "b46d5688",
   "metadata": {},
   "source": [
    "Q5. When is it appropriate to use operator overloading?\n",
    "\n",
    "--> It is appropriate to use operator overloading when a class naturally matches or needs to emulate a built-in type’s interfaces.\n",
    "--> We generally shouldn’t implement expression operators if they don’t naturally map to your objects naturally and logically, though—use normally named methods instead."
   ]
  }
 ],
 "metadata": {
  "kernelspec": {
   "display_name": "Python 3 (ipykernel)",
   "language": "python",
   "name": "python3"
  },
  "language_info": {
   "codemirror_mode": {
    "name": "ipython",
    "version": 3
   },
   "file_extension": ".py",
   "mimetype": "text/x-python",
   "name": "python",
   "nbconvert_exporter": "python",
   "pygments_lexer": "ipython3",
   "version": "3.9.7"
  }
 },
 "nbformat": 4,
 "nbformat_minor": 5
}
