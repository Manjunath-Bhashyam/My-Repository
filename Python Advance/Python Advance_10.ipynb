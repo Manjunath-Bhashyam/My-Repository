{
 "cells": [
  {
   "cell_type": "raw",
   "id": "55a62bc6",
   "metadata": {},
   "source": [
    "Q1. What is the difference between __getattr__ and __getattribute__?\n",
    "\n",
    "--> __getattr__ method is run to fetch undefined attributes only which are not present on an instance and not inherited from any of its classes.\n",
    "--> __getattribute__ method is called for every attribute fetch, whether the attribute is defined or not. Because of this, code inside a __getattr__ can freely fetch other attributes if they are defined, whereas __getattribute__ must use special code for all such attribute fetches to avoid looping or extra calls."
   ]
  },
  {
   "cell_type": "raw",
   "id": "4aa23e6c",
   "metadata": {},
   "source": [
    "Q2. What is the difference between properties and descriptors?\n",
    "\n",
    "--> Properties define get, set and delete functions for a specific attribute\n",
    "--> descriptors provide a class with methods for these actions too but they provide extra flexibility to support more arbitrary actions.\n",
    "--> Properties are really a simple way to create a specific kind of descriptor—one that runs functions on attribute accesses. --> Properties and descriptiors differ with respect to Coding too: a property is created with a built-in functio, and a descriptor is coded with a class.\n",
    "--> descriptors can leverage all the usual OOP features of classes, such as inheritance etc. Moreover, in addition to the instance’s state information, descriptors have local state of their own, so they can sometimes avoid name collisions in the instance."
   ]
  },
  {
   "cell_type": "raw",
   "id": "963d45bb",
   "metadata": {},
   "source": [
    "Q3. What are the key differences in functionality between __getattr__ and __getattribute__, as well as properties and descriptors?\n",
    "\n",
    "--> The __getattr__ and __getattribute__ methods are more generic: they can be used to catch arbitrarily many attributes, each property or descriptor provides access interception for only one specific attribute—we can’t catch every attribute fetch with a single property or descriptor.\n",
    "--> On the other hand, properties and descriptors handle both attribute fetch and assignment by design: __getattr__ and __getattribute__ handle fetches only; to intercept assignments as well, __setattr__ must also be coded.\n",
    "--> They differ with respec to implementation as well: __getattr__ and __getattribute__ are operator overloading methods, whereas properties and descriptors are objects manually assigned to class attributes.\n",
    "--> Unlike the others, properties and descriptors can also sometimes avoid extra calls on assignment to unmanaged names and show up in dir results automatically, but are also narrower in scope."
   ]
  }
 ],
 "metadata": {
  "kernelspec": {
   "display_name": "Python 3 (ipykernel)",
   "language": "python",
   "name": "python3"
  },
  "language_info": {
   "codemirror_mode": {
    "name": "ipython",
    "version": 3
   },
   "file_extension": ".py",
   "mimetype": "text/x-python",
   "name": "python",
   "nbconvert_exporter": "python",
   "pygments_lexer": "ipython3",
   "version": "3.9.7"
  }
 },
 "nbformat": 4,
 "nbformat_minor": 5
}
