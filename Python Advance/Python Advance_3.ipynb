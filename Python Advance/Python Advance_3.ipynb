{
 "cells": [
  {
   "cell_type": "raw",
   "id": "869ef5f3",
   "metadata": {},
   "source": [
    "1. What is the concept of an abstract superclass?\n",
    "\n",
    "--> A class is called an Abstract class if it contains one or more abstract methods.\n",
    "--> An abstract superclass is a class that calls a method, but does not inherit or define it. It expects the method to be filled in by a subclass. This is often used as a way to generalize classes when behavior cannot be predicted until a more specific subclass is coded. Object oriented programming frameworks also uses this as a way to dispatch to client-defined, customizable operations"
   ]
  },
  {
   "cell_type": "raw",
   "id": "ca71eb33",
   "metadata": {},
   "source": [
    "2. What happens when a class statement's top level contains a basic assignment statement?\n",
    "\n",
    "--> In python, the statements which are not indented are called a top-level statement. Internally python gives a special name to top-level statements as __main__.\n",
    "--> When a class statement's top level contains a basic assignment statement it will create a class variable(we can say it attaches a data attribute to the class).\n",
    "--> An assignment statement of the form <varname> = <expr> at the top-level in a class definition creates a class variable(we can say it attaches a data attribute to the class).\n",
    "--> Like all class attributes, this will be shared by all instances."
   ]
  },
  {
   "cell_type": "raw",
   "id": "41b0ef3c",
   "metadata": {},
   "source": [
    "3. Why does a class need to manually call a superclass's __init__ method?\n",
    "\n",
    "--> We manually call a superclass's __init__ method as one needs to define something that is NOT done in the base-class __init__ and the only possibility to obtain that is to put its execution in a derived-class __init__ function.\n",
    "--> Also used when one wants the superclass’s construction code to run, example: Superclass.__init__(self, ...)"
   ]
  },
  {
   "cell_type": "raw",
   "id": "cb8d8117",
   "metadata": {},
   "source": [
    "4. How can you augment, instead of completely replacing, an inherited method?\n",
    "\n",
    "--> In order to augment instead of completely replacing an inherited method - we redefine it in a subclass, but call it back to the superclass’s version of the method manually from the new version of the method in the subclass i.e. we pass the self instance to the superclass’s version of the method manually: Superclass.method(self, ...)"
   ]
  },
  {
   "cell_type": "raw",
   "id": "f8711a88",
   "metadata": {},
   "source": [
    "5. How is the local scope of a class different from that of a function?\n",
    "\n",
    "--> A class is a local scope and has access to enclosing local scopes, but it does not serve as an enclosing local scope to further nested code. Like modules, the class local scope morphs into an attribute namespace after the class statement is run."
   ]
  }
 ],
 "metadata": {
  "kernelspec": {
   "display_name": "Python 3 (ipykernel)",
   "language": "python",
   "name": "python3"
  },
  "language_info": {
   "codemirror_mode": {
    "name": "ipython",
    "version": 3
   },
   "file_extension": ".py",
   "mimetype": "text/x-python",
   "name": "python",
   "nbconvert_exporter": "python",
   "pygments_lexer": "ipython3",
   "version": "3.9.7"
  }
 },
 "nbformat": 4,
 "nbformat_minor": 5
}
