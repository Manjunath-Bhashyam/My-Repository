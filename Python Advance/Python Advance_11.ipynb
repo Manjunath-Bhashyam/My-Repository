{
 "cells": [
  {
   "cell_type": "raw",
   "id": "5f82d288",
   "metadata": {},
   "source": [
    "Q1. What is the concept of a metaclass?\n",
    "\n",
    "--> A metaclass is a class whose instances are classes. Just as an ordinary class defines the behavior of certain objects, a metaclass defines the behavior of certain classes and their instances.\n",
    "--> Metaclasses may have methods and data to provide behavior for their classes too and constitute a secondary pathway for inheritance search but their attributes are accessible only to their class instances, not to their instance’s instances."
   ]
  },
  {
   "cell_type": "raw",
   "id": "97e4d999",
   "metadata": {},
   "source": [
    "Q2. What is the best way to declare a class's metaclass?\n",
    "\n",
    "--> We can declare a class's metaclass using a keyword argument in the class header line: class C(metaclass=M)\n",
    "--> Metaclass provides common methods for all metaclasses."
   ]
  },
  {
   "cell_type": "raw",
   "id": "40a4be81",
   "metadata": {},
   "source": [
    "Q3. How do class decorators overlap with metaclasses for handling classes?\n",
    "\n",
    "--> Class decorators and metaclasses both are automatically triggered at the end of a class statement.\n",
    "--> They both can be used to handle classes. Decorators rebind a class name to a callable’s result and metaclasses route class creation through a callable, but both hooks can be used for similar purposes.\n",
    "--> To manage classes, decorators simply augment and return the original class objects. Metaclasses augment a class after they create it. Decorators may have a slight disadvantage in this role if a new class must be defined, because the original class has already been created."
   ]
  },
  {
   "cell_type": "raw",
   "id": "9eb18739",
   "metadata": {},
   "source": [
    "Q4. How do class decorators overlap with metaclasses for handling instances?\n",
    "\n",
    "--> Both class decorators and metaclasses can be used to handle class instances, by inserting a wrapper (proxy) object to catch instance creation calls."
   ]
  }
 ],
 "metadata": {
  "kernelspec": {
   "display_name": "Python 3 (ipykernel)",
   "language": "python",
   "name": "python3"
  },
  "language_info": {
   "codemirror_mode": {
    "name": "ipython",
    "version": 3
   },
   "file_extension": ".py",
   "mimetype": "text/x-python",
   "name": "python",
   "nbconvert_exporter": "python",
   "pygments_lexer": "ipython3",
   "version": "3.9.7"
  }
 },
 "nbformat": 4,
 "nbformat_minor": 5
}
