{
 "cells": [
  {
   "cell_type": "raw",
   "id": "fe21af43",
   "metadata": {},
   "source": [
    "Q1. Describe three applications for exception processing.\n",
    "\n",
    "--> Exception processing/Exception handling is useful for error handling, termination actions and event notification.\n",
    "--> Exception handling also cuts down the amount of time required to check for the error in our code, because all errors filter up to handlers and it is not needed to test the outcome of every operation."
   ]
  },
  {
   "cell_type": "raw",
   "id": "dc130e52",
   "metadata": {},
   "source": [
    "Q2. What happens if you don't do something extra to treat an exception?\n",
    "\n",
    "--> It shutdowns our entire run of code/program. Any exception if not handled eventually filters up to the default exception handler Python provides at the top of your program. This handler prints the familiar error message and shuts down your program."
   ]
  },
  {
   "cell_type": "raw",
   "id": "5343908e",
   "metadata": {},
   "source": [
    "Q3. What are your options for recovering from an exception in your script?\n",
    "\n",
    "--> We can make use of try and except block of code to catch and recover/handle the exceptions that are raised within our block of code.\n",
    "--> If an exception arises the exception is terminated and our program/code runs after the try block.\n",
    "--> If the try/except blocks are not implemented then we will face the default exception message from python leading to the shutdown of our entire program/entire block of code."
   ]
  },
  {
   "cell_type": "raw",
   "id": "66c0ba56",
   "metadata": {},
   "source": [
    "Q4. Describe two methods for triggering exceptions in your script.\n",
    "\n",
    "--> raise and assert statements can be used to trigger an exception in our script. It will just resemble exactly as if it had been raised by Python itself."
   ]
  },
  {
   "cell_type": "raw",
   "id": "285cb422",
   "metadata": {},
   "source": [
    "Q5. Identify two methods for specifying actions to be executed at termination time, regardless of whether or not an exception exists.\n",
    "\n",
    "--> try and finally - block of code / statement can be used to ensure actions are run after a block of code exits regardless of whether the block raises an exception or not."
   ]
  }
 ],
 "metadata": {
  "kernelspec": {
   "display_name": "Python 3 (ipykernel)",
   "language": "python",
   "name": "python3"
  },
  "language_info": {
   "codemirror_mode": {
    "name": "ipython",
    "version": 3
   },
   "file_extension": ".py",
   "mimetype": "text/x-python",
   "name": "python",
   "nbconvert_exporter": "python",
   "pygments_lexer": "ipython3",
   "version": "3.9.7"
  }
 },
 "nbformat": 4,
 "nbformat_minor": 5
}
