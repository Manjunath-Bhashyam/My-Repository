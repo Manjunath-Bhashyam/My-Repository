{
 "cells": [
  {
   "cell_type": "raw",
   "id": "f4d516ce",
   "metadata": {},
   "source": [
    "Q1. What is the relationship between classes and modules?\n",
    "\n",
    "--> A class is used to define a blueprint for a given object, whereas a module is used to reuse a given piece of code inside another program.\n",
    "--> Modules are files present inside a package, whereas a class is used to encapsulate data and functions together inside the same unit.\n",
    "--> A class can have its own instance, but a module cannot be instantiated. We use the class keyword to define a class, whereas to use modules, we use the import keyword. We can inherit a particular class and modify it using inheritance. But while using modules, it is simply a code containing variables, functions and classes."
   ]
  },
  {
   "cell_type": "raw",
   "id": "3f2534a1",
   "metadata": {},
   "source": [
    "Q2. How do you make instances and classes?\n",
    "\n",
    "--> In Python, a class can be created by using the keyword class, followed by the class name.\n",
    "\n",
    "Syntax:\n",
    "\n",
    "class ClassName:    \n",
    "    pass\n",
    "    \n",
    "--> To create instances of a class, we call the class using class name and pass in arguments its __init__ method accepts.\n",
    "\n",
    "--> Example Shown below:"
   ]
  },
  {
   "cell_type": "code",
   "execution_count": 1,
   "id": "8c848044",
   "metadata": {},
   "outputs": [
    {
     "name": "stdout",
     "output_type": "stream",
     "text": [
      "petrol\n"
     ]
    }
   ],
   "source": [
    "class Vehicle:\n",
    "    def __init__(self, fuel):\n",
    "        self.fuel = fuel\n",
    "\n",
    "an_instance = Vehicle(\"petrol\")\n",
    "print(an_instance.fuel)"
   ]
  },
  {
   "cell_type": "raw",
   "id": "da3e4a0d",
   "metadata": {},
   "source": [
    "Q3. Where and how should be class attributes created?\n",
    "\n",
    "--> Class attributes belong to the class itself and they will be shared by all the instances. They have the same value for every instance and we define class attributes outside all the methods, usually they are placed at the top, right below the class header.\n",
    "\n",
    "--> Example shown below:"
   ]
  },
  {
   "cell_type": "code",
   "execution_count": 2,
   "id": "0428d8ae",
   "metadata": {},
   "outputs": [
    {
     "data": {
      "text/plain": [
       "'diesel'"
      ]
     },
     "execution_count": 2,
     "metadata": {},
     "output_type": "execute_result"
    }
   ],
   "source": [
    "class car:\n",
    "    fuel = \"diesel\"\n",
    "\n",
    "an_instance = car()\n",
    "an_instance.fuel"
   ]
  },
  {
   "cell_type": "raw",
   "id": "69fd30d8",
   "metadata": {},
   "source": [
    "Q4. Where and how are instance attributes created?\n",
    "\n",
    "--> Instance attributes are not shared by objects. Every object has its own copy of the instance attribute (In case of class attributes all object refer to single copy).\n",
    "\n",
    "To list the attributes of an instance/object, we have two functions:-\n",
    "1. vars()– This function displays the attribute of an instance in the form of an dictionary.\n",
    "2. dir()– This function displays more attributes than vars function, as it is not limited to instance. It displays the class attributes as well. It also displays the attributes of its ancestor classes.\n",
    "\n",
    "--> Example shown below:"
   ]
  },
  {
   "cell_type": "code",
   "execution_count": 3,
   "id": "3afaa053",
   "metadata": {},
   "outputs": [
    {
     "name": "stdout",
     "output_type": "stream",
     "text": [
      "Dictionary form : {'fuel': 'petrol', 'seats': 5}\n",
      "['__class__', '__delattr__', '__dict__', '__dir__', '__doc__', '__eq__', '__format__', '__ge__', '__getattribute__', '__gt__', '__hash__', '__init__', '__init_subclass__', '__le__', '__lt__', '__module__', '__ne__', '__new__', '__reduce__', '__reduce_ex__', '__repr__', '__setattr__', '__sizeof__', '__str__', '__subclasshook__', '__weakref__', 'fuel', 'seats', 'show']\n"
     ]
    }
   ],
   "source": [
    "class Car:\n",
    "    def __init__(self):\n",
    "        self.fuel = 'petrol'\n",
    "        self.seats = 5\n",
    "  \n",
    "    def show(self):\n",
    "        print(self.fuel)\n",
    "        print(self.seats)\n",
    "        \n",
    "Tata = Car()\n",
    "print(\"Dictionary form :\", vars(Tata))\n",
    "print(dir(Tata))"
   ]
  },
  {
   "cell_type": "raw",
   "id": "bd5b30de",
   "metadata": {},
   "source": [
    "Q5. What does the term \"self\" in a Python class mean?\n",
    "\n",
    "--> The self parameter is a reference to the current instance of the class, and is used to access variables that belongs to the class.\n",
    "--> It does not have to be named self and we can call it whatever we like, but it has to be the first parameter of any function in the class."
   ]
  },
  {
   "cell_type": "raw",
   "id": "780fc0d9",
   "metadata": {},
   "source": [
    "Q6. How does a Python class handle operator overloading?\n",
    "\n",
    "--> The operator overloading in Python means providing extended meaning beyond their predefined operational meaning. Such as, we use the \"+\" operator for adding two integers as well as joining two strings or merging two lists. We can achieve this as the \"+\" operator is overloaded by the \"int\" class and \"str\" class. The user can notice that the same inbuilt operator or function is showing different behaviour for objects of different classes. This process is known as operator overloading.\n",
    "--> Example as shown below:"
   ]
  },
  {
   "cell_type": "code",
   "execution_count": 4,
   "id": "97f7ef6b",
   "metadata": {},
   "outputs": [
    {
     "name": "stdout",
     "output_type": "stream",
     "text": [
      "2\n"
     ]
    }
   ],
   "source": [
    "print(1+1)"
   ]
  },
  {
   "cell_type": "code",
   "execution_count": 5,
   "id": "2f583eb4",
   "metadata": {},
   "outputs": [
    {
     "name": "stdout",
     "output_type": "stream",
     "text": [
      "Manjunath Bhashyam\n"
     ]
    }
   ],
   "source": [
    "print(\"Manjunath\" + \" \" + \"Bhashyam\")"
   ]
  },
  {
   "cell_type": "raw",
   "id": "9a7fb6a4",
   "metadata": {},
   "source": [
    "Q7. When do you consider allowing operator overloading of your classes?\n",
    "\n",
    "--> Operator overloading, sometimes termed operator ad hoc polymorphism, is a specific case of polymorphism, where different operators have different implementations depending on their arguments. Operator overloading is generally defined by a programming language, a programmer or both.\n",
    "--> Operator overloading in classes is allowed in cases where we need to provide a special meaning of an operator for a user-defined data type."
   ]
  },
  {
   "cell_type": "raw",
   "id": "f414d158",
   "metadata": {},
   "source": [
    "Q8. What is the most popular form of operator overloading?\n",
    "\n",
    "--> A very popular and convenient example is the Addition (+) operator. The '+' operator operates on two numbers and the same operator operates on two strings. It performs “Addition” on numbers whereas it performs “Concatenation” on strings."
   ]
  },
  {
   "cell_type": "code",
   "execution_count": 7,
   "id": "44d45c52",
   "metadata": {},
   "outputs": [
    {
     "name": "stdout",
     "output_type": "stream",
     "text": [
      "3\n",
      "Manjunath Bhashyam\n"
     ]
    }
   ],
   "source": [
    "print(2+1)\n",
    "print(\"Manjunath\" + \" \" + \"Bhashyam\")"
   ]
  },
  {
   "cell_type": "raw",
   "id": "bd5bd845",
   "metadata": {},
   "source": [
    "Q9. What are the two most important concepts to grasp in order to comprehend Python OOP code?\n",
    "\n",
    "--> Two most important concepts of OOP are inheritance and polymorphism. Both inheritance and polymorphism are the key ingredients for designing robust, flexible and easy-to-maintain software. "
   ]
  }
 ],
 "metadata": {
  "kernelspec": {
   "display_name": "Python 3",
   "language": "python",
   "name": "python3"
  },
  "language_info": {
   "codemirror_mode": {
    "name": "ipython",
    "version": 3
   },
   "file_extension": ".py",
   "mimetype": "text/x-python",
   "name": "python",
   "nbconvert_exporter": "python",
   "pygments_lexer": "ipython3",
   "version": "3.8.8"
  }
 },
 "nbformat": 4,
 "nbformat_minor": 5
}
