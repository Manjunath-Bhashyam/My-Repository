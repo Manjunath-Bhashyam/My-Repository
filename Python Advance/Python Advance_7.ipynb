{
 "cells": [
  {
   "cell_type": "raw",
   "id": "bbdb9135",
   "metadata": {},
   "source": [
    "Q1. What is the purpose of the try statement?\n",
    "\n",
    "--> try statement in error and exception handling helps us to test a block of code for errors while it is been executed. If an exception occurs it is caught and handled by except block."
   ]
  },
  {
   "cell_type": "raw",
   "id": "0c33c8b8",
   "metadata": {},
   "source": [
    "Q2. What are the two most popular try statement variations?\n",
    "\n",
    "--> Two common most popular variations on the try statement are try/except/else - for catching exceptions and try/finally - for specifying cleanup actions that must occur whether an exception is raised or not"
   ]
  },
  {
   "cell_type": "raw",
   "id": "ae9fbd5c",
   "metadata": {},
   "source": [
    "Q3. What is the purpose of the raise statement?\n",
    "\n",
    "--> raise statement is used to raise an exception. In other words raise statement is used to raise user defined exceptions."
   ]
  },
  {
   "cell_type": "raw",
   "id": "18f2605d",
   "metadata": {},
   "source": [
    "Q4. What does the assert statement do, and what other statement is it like?\n",
    "\n",
    "--> The assert statement is used to raise an AssertionError exception if a condition is false.\n",
    "--> It works like a conditional raise statement wrapped up in an if statementand can be disabled with a –O switch."
   ]
  },
  {
   "cell_type": "raw",
   "id": "2eb3a8ed",
   "metadata": {},
   "source": [
    "Q5. What is the purpose of the with/as argument, and what other statement is it like?\n",
    "\n",
    "--> The with/as statement is used to automate startup and termination activities that must occur around a block of code.\n",
    "--> It is roughly like a try/finally statement in which its exit actions run whether an exception occurred or not, but it allows a richer object-based protocol for specifying entry and exit actions and may reduce code size."
   ]
  }
 ],
 "metadata": {
  "kernelspec": {
   "display_name": "Python 3 (ipykernel)",
   "language": "python",
   "name": "python3"
  },
  "language_info": {
   "codemirror_mode": {
    "name": "ipython",
    "version": 3
   },
   "file_extension": ".py",
   "mimetype": "text/x-python",
   "name": "python",
   "nbconvert_exporter": "python",
   "pygments_lexer": "ipython3",
   "version": "3.9.7"
  }
 },
 "nbformat": 4,
 "nbformat_minor": 5
}
