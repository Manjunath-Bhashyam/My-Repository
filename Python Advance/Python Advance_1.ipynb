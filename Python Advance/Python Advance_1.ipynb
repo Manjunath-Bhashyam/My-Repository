{
 "cells": [
  {
   "cell_type": "raw",
   "id": "db4ad974",
   "metadata": {},
   "source": [
    "Q1. What is the purpose of Python's OOP?\n",
    "\n",
    "--> OOP stands for Object Oriented programming. In python OOP is a programming concept/approach that uses objects and classes in programming. The concept of OOP in Python focuses on creating reusable code and it aims to implement real-world entities like inheritance, polymorphisms, encapsulation in the programming."
   ]
  },
  {
   "cell_type": "raw",
   "id": "921ac5ae",
   "metadata": {},
   "source": [
    "Q2. Where does an inheritance search look for an attribute?\n",
    "\n",
    "--> In Python, inheritance happens when an object is qualified, and involves searching an attribute definition tree (one or more namespaces). Every time you use an expression of the form object.attr where object is an instance or class object, Python searches the namespace tree at and above object, for the first attr it can find. Because lower definitions in the tree override higher ones, inheritance forms the basis of specialization.\n",
    "--> Attribute fetches are simply tree searches. In inheritance objects lower in a tree inherit attributes attached to objects higher in that tree. As the search proceeds from the bottom up, in a sense, the objects linked into a tree are the union of all the attributes defined in all their tree parents, all the way up the tree."
   ]
  },
  {
   "cell_type": "raw",
   "id": "88eca409",
   "metadata": {},
   "source": [
    "Q3. How do you distinguish between a class object and an instance object?\n",
    "\n",
    "--> Class is a blueprint for the object. An object (instance) is an instantiation of a class. When a class is defined only the description for the object is defined and there is no memory allocation done.\n",
    "\n",
    "--> Class Object: When we create a class in python then a class object is created so whenever python finds a class statement in the whole program then it creates a class object and assigns a name to that object i.e. class name. As we know in python, everything is an object so the class itself is an object and is the instance of metaclasses.\n",
    "\n",
    "--> Instance Object: When we call a class, it creates an instance object of that class from which the object has been created. Instance objects are real objects in your python code process. The instance object has access to attributes of the class from which it is created. Instance object inherits the attributes of the class object from which it was created."
   ]
  },
  {
   "cell_type": "raw",
   "id": "6d8df93e",
   "metadata": {},
   "source": [
    "Q4. What makes the first argument in a class’s method function special?\n",
    "\n",
    "--> A special thing about methods (in Python) is that the object itself is passed as the first argument to the corresponding function. The first argument of class functions (self) reference the instance object and assignments to attributes of self change data in the instance."
   ]
  },
  {
   "cell_type": "raw",
   "id": "7dee9005",
   "metadata": {},
   "source": [
    "Q5. What is the purpose of the __init__ method?\n",
    "\n",
    "--> The __init__ method is the Python equivalent of the C++ constructor in an object-oriented approach. The __init__  function is called every time an object is created from a class. The __init__ method lets the class initialize the object’s attributes and serves no other purpose. It is only used within classes."
   ]
  },
  {
   "cell_type": "raw",
   "id": "9353476c",
   "metadata": {},
   "source": [
    "Q6. What is the process for creating a class instance?\n",
    "\n",
    "--> Call ClassName() to create a new instance of the class ClassName.\n",
    "--> To pass parameters to the class instance, the class must have an __init__() method.\n",
    "--> Example Shown below:"
   ]
  },
  {
   "cell_type": "code",
   "execution_count": 1,
   "id": "2d9c5eaa",
   "metadata": {},
   "outputs": [
    {
     "name": "stdout",
     "output_type": "stream",
     "text": [
      "petrol\n"
     ]
    }
   ],
   "source": [
    "class Car:\n",
    "    def __init__(self, fuel):\n",
    "        self.fuel = fuel\n",
    "\n",
    "an_instance = Car(\"petrol\")\n",
    "print(an_instance.fuel)"
   ]
  },
  {
   "cell_type": "raw",
   "id": "1a51b99c",
   "metadata": {},
   "source": [
    "Q7. What is the process for creating a class?\n",
    "\n",
    "--> In Python, a class can be created by using the keyword class, followed by the class name.\n",
    "\n",
    "Syntax:\n",
    "\n",
    "class ClassName:    \n",
    "    pass"
   ]
  },
  {
   "cell_type": "raw",
   "id": "89d4dcb9",
   "metadata": {},
   "source": [
    "Q8. How would you define the superclasses of a class?\n",
    "\n",
    "--> The class whose properties gets inherited by another class is known as superclass or parent class.\n",
    "--> Parent class methods can be called within the overridden methods. This can generally be achieved by two ways.\n",
    "\n",
    "1. Using Super():\n",
    "\n",
    "--> Python super() function provides us the facility to refer to the parent class explicitly. It is basically useful where we have to call superclass functions. It returns the proxy object that allows us to refer parent class by ‘super’.\n",
    "\n",
    "2. Using Classname: \n",
    "\n",
    "--> Parent’s class methods can be called by using the Parent classname.method inside the overridden method."
   ]
  },
  {
   "cell_type": "code",
   "execution_count": 2,
   "id": "65ea2db2",
   "metadata": {},
   "outputs": [
    {
     "name": "stdout",
     "output_type": "stream",
     "text": [
      "Inside Parent\n",
      "Inside Child\n"
     ]
    }
   ],
   "source": [
    "# 1. Using Super()\n",
    "\n",
    "class Parent():\n",
    "      \n",
    "    def show(self):\n",
    "        print(\"Inside Parent\")\n",
    "          \n",
    "class Child(Parent):\n",
    "      \n",
    "    def show(self):\n",
    "          \n",
    "        super().show()\n",
    "        print(\"Inside Child\")\n",
    "\n",
    "obj = Child()\n",
    "obj.show()"
   ]
  },
  {
   "cell_type": "code",
   "execution_count": 3,
   "id": "b4442725",
   "metadata": {},
   "outputs": [
    {
     "name": "stdout",
     "output_type": "stream",
     "text": [
      "Inside Parent\n",
      "Inside Child\n"
     ]
    }
   ],
   "source": [
    "# 2. Using Classname:\n",
    "\n",
    "class Parent():\n",
    "      \n",
    "    def show(self):\n",
    "        print(\"Inside Parent\")\n",
    "          \n",
    "class Child(Parent):\n",
    "      \n",
    "    def show(self):\n",
    "\n",
    "        Parent.show(self)\n",
    "        print(\"Inside Child\")\n",
    "          \n",
    "\n",
    "obj = Child()\n",
    "obj.show()"
   ]
  }
 ],
 "metadata": {
  "kernelspec": {
   "display_name": "Python 3",
   "language": "python",
   "name": "python3"
  },
  "language_info": {
   "codemirror_mode": {
    "name": "ipython",
    "version": 3
   },
   "file_extension": ".py",
   "mimetype": "text/x-python",
   "name": "python",
   "nbconvert_exporter": "python",
   "pygments_lexer": "ipython3",
   "version": "3.8.8"
  }
 },
 "nbformat": 4,
 "nbformat_minor": 5
}
