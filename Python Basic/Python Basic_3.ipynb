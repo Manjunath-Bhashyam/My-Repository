{
 "cells": [
  {
   "cell_type": "raw",
   "id": "38913145",
   "metadata": {},
   "source": [
    "1. Why are functions advantageous to have in your programs?\n",
    "\n",
    "--> A function is a block of reusable code that is used to perform a specific task.\n",
    "--> The advantages of using functions are:\n",
    "\n",
    "Reducing duplication of code\n",
    "Decomposing complex problems into simpler pieces\n",
    "Improving clarity of the code\n",
    "Reusability of code\n",
    "Information hiding\n",
    "Functions can be assigned to variables, stored in collections, or passed as arguments. This brings additional flexibility to the language."
   ]
  },
  {
   "cell_type": "raw",
   "id": "7706cff2",
   "metadata": {},
   "source": [
    "2. When does the code in a function run: when it's specified or when it's called?\n",
    "\n",
    "--> The code in a function runs only when it is called.\n",
    "To call a function, we specify the function name with the round brackets. Example: myfunc()\n",
    "\n",
    "--> When a function is \"called\" the program \"leaves\" the current section of code and begins to execute the first line inside the function. The function \"flow of control\" is:\n",
    "\n",
    "The program comes to a line of code containing a \"function call\".\n",
    "The program enters the function (starts at the first line in the function code).\n",
    "All statements inside of the function are executed from top to bottom.\n",
    "The program leaves the function and goes back to where it started from.\n",
    "Any data computed and Returned by the function is used in place of the function in the original line of code."
   ]
  },
  {
   "cell_type": "raw",
   "id": "20e3c0ff",
   "metadata": {},
   "source": [
    "3. What statement creates a function?\n",
    "\n",
    "--> def keyword. A function is created using def keyword.\n",
    "\n",
    "Example:\n",
    "def myfunc():\n",
    "    pass\n",
    "\n",
    "--> The def keyword is followed by the function name with round brackets and a colon. The indented statements form a body of the function.\n",
    "\n",
    "The function is executed when we call the function. If we call a function, the statements inside the function body are executed. They are not executed until the function is called.\n",
    "\n",
    "myfunc()"
   ]
  },
  {
   "cell_type": "raw",
   "id": "f7423e8c",
   "metadata": {},
   "source": [
    "4. What is the difference between a function and a function call?\n",
    "\n",
    "--> A \"function\" is a block of reusable code that is used to perform a specific task and created by using a def keyword.\n",
    "--> To execute the statements or block of code inside the function body we do a \"function call\"."
   ]
  },
  {
   "cell_type": "raw",
   "id": "1f42ba74",
   "metadata": {},
   "source": [
    "5. How many global scopes are there in a Python program? How many local scopes?\n",
    "\n",
    "--> In a python program there is only one global scope. global means “a name at the top-level of a module file.”\n",
    "It will remain until the program terminates and all its variable names are forgotten.  \n",
    "\n",
    "--> Local scope: A variable which has been created inside a function belongs to a local scope of that function."
   ]
  },
  {
   "cell_type": "raw",
   "id": "966c8989",
   "metadata": {},
   "source": [
    "6. What happens to variables in a local scope when the function call returns?\n",
    "\n",
    "--> A local variable within the local scope of function \"becomes undefined after the function call returns/completes\".\n",
    "Example shown below:"
   ]
  },
  {
   "cell_type": "code",
   "execution_count": 1,
   "id": "ad543a74",
   "metadata": {},
   "outputs": [],
   "source": [
    "def myfunc():\n",
    "    x=2\n",
    "    print(x)"
   ]
  },
  {
   "cell_type": "code",
   "execution_count": 2,
   "id": "38276584",
   "metadata": {},
   "outputs": [
    {
     "name": "stdout",
     "output_type": "stream",
     "text": [
      "2\n"
     ]
    }
   ],
   "source": [
    "myfunc()"
   ]
  },
  {
   "cell_type": "code",
   "execution_count": 3,
   "id": "0c00dce3",
   "metadata": {},
   "outputs": [
    {
     "ename": "NameError",
     "evalue": "name 'x' is not defined",
     "output_type": "error",
     "traceback": [
      "\u001b[1;31m---------------------------------------------------------------------------\u001b[0m",
      "\u001b[1;31mNameError\u001b[0m                                 Traceback (most recent call last)",
      "\u001b[1;32m<ipython-input-3-6fcf9dfbd479>\u001b[0m in \u001b[0;36m<module>\u001b[1;34m\u001b[0m\n\u001b[1;32m----> 1\u001b[1;33m \u001b[0mx\u001b[0m\u001b[1;33m\u001b[0m\u001b[1;33m\u001b[0m\u001b[0m\n\u001b[0m",
      "\u001b[1;31mNameError\u001b[0m: name 'x' is not defined"
     ]
    }
   ],
   "source": [
    "x"
   ]
  },
  {
   "cell_type": "raw",
   "id": "0922ad2b",
   "metadata": {},
   "source": [
    "7. What is the concept of a return value? Is it possible to have a return value in an expression?\n",
    "\n",
    "--> A return value is a value that is returned after the successful execution of a function.\n",
    "\n",
    "Is it possible to have a return value in an expression?\n",
    "\n",
    "--> Yes. If we define a function with an explicit return statement that has an explicit return value, then we can use that return value in any expression."
   ]
  },
  {
   "cell_type": "raw",
   "id": "ace20e37",
   "metadata": {},
   "source": [
    "8. If a function does not have a return statement, what is the return value of a call to that function?\n",
    "\n",
    "--> If a function does not have a return statement the function ends when the control flow reaches the end of the function body and value None will be returned."
   ]
  },
  {
   "cell_type": "raw",
   "id": "8d12d77f",
   "metadata": {},
   "source": [
    "9. How do you make a function variable refer to the global variable?\n",
    "\n",
    "--> Using global keyword. We can use global keyword to declare which variables are global.\n",
    "global means “a name at the top-level of a module file.”"
   ]
  },
  {
   "cell_type": "raw",
   "id": "f2d78364",
   "metadata": {},
   "source": [
    "10. What is the data type of None?\n",
    "\n",
    "--> None is a datatype of NoneType and it specifies that it is a null value or has no value at all."
   ]
  },
  {
   "cell_type": "raw",
   "id": "b6a3735d",
   "metadata": {},
   "source": [
    "11. What does the sentence import areallyourpetsnamederic do?\n",
    "\n",
    "--> import statement is used to import a module, so import areallyourpetsnamederic would import module named as  areallyourpetsnamederic."
   ]
  },
  {
   "cell_type": "raw",
   "id": "31fd2f22",
   "metadata": {},
   "source": [
    "12. If you had a bacon() feature in a spam module, what would you call it after importing spam?\n",
    "\n",
    "--> spam.bacon()"
   ]
  },
  {
   "cell_type": "raw",
   "id": "cfd90ae2",
   "metadata": {},
   "source": [
    "13. What can you do to save a programme from crashing if it encounters an error?\n",
    "\n",
    "--> By handling the error which can be done by implementing \"Errors and Exception Handling\" - Except block: except Exception as e (Exception: Super class of Exception)"
   ]
  },
  {
   "cell_type": "raw",
   "id": "f52a56f1",
   "metadata": {},
   "source": [
    "14. What is the purpose of the try clause? What is the purpose of the except clause?\n",
    "\n",
    "--> try clause/block, except clause/block, else block, finally block are part of Errors and Exception Handling.\n",
    "--> try block lets us to test a block of code for errors.\n",
    "--> except block lets us to handle the error.\n",
    "--> else block lets us execute code when there is no error.\n",
    "--> finally block lets us execute code, regardless of the result of the try and except blocks."
   ]
  }
 ],
 "metadata": {
  "kernelspec": {
   "display_name": "Python 3",
   "language": "python",
   "name": "python3"
  },
  "language_info": {
   "codemirror_mode": {
    "name": "ipython",
    "version": 3
   },
   "file_extension": ".py",
   "mimetype": "text/x-python",
   "name": "python",
   "nbconvert_exporter": "python",
   "pygments_lexer": "ipython3",
   "version": "3.8.8"
  }
 },
 "nbformat": 4,
 "nbformat_minor": 5
}
