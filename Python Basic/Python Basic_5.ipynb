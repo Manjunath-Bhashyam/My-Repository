{
 "cells": [
  {
   "cell_type": "raw",
   "id": "88ded123",
   "metadata": {},
   "source": [
    "1. What does an empty dictionary's code look like?\n",
    "\n",
    "--> An empty dictionary can be designated as {} (just curly brackets) - as shown below."
   ]
  },
  {
   "cell_type": "code",
   "execution_count": 1,
   "id": "47b3a9da",
   "metadata": {},
   "outputs": [
    {
     "data": {
      "text/plain": [
       "dict"
      ]
     },
     "execution_count": 1,
     "metadata": {},
     "output_type": "execute_result"
    }
   ],
   "source": [
    "type({})"
   ]
  },
  {
   "cell_type": "raw",
   "id": "f8eda089",
   "metadata": {},
   "source": [
    "2. What is the value of a dictionary value with the key 'foo' and the value 42?\n",
    "\n",
    "--> # Given input would look like -> {'foo' : 42}"
   ]
  },
  {
   "cell_type": "code",
   "execution_count": 2,
   "id": "9a6cbbda",
   "metadata": {},
   "outputs": [],
   "source": [
    "d = {'foo' : 42}"
   ]
  },
  {
   "cell_type": "code",
   "execution_count": 3,
   "id": "24b72adb",
   "metadata": {},
   "outputs": [
    {
     "data": {
      "text/plain": [
       "{'foo': 42}"
      ]
     },
     "execution_count": 3,
     "metadata": {},
     "output_type": "execute_result"
    }
   ],
   "source": [
    "d"
   ]
  },
  {
   "cell_type": "code",
   "execution_count": 4,
   "id": "fcf449ab",
   "metadata": {},
   "outputs": [
    {
     "data": {
      "text/plain": [
       "dict_items([('foo', 42)])"
      ]
     },
     "execution_count": 4,
     "metadata": {},
     "output_type": "execute_result"
    }
   ],
   "source": [
    "d.items()"
   ]
  },
  {
   "cell_type": "code",
   "execution_count": 5,
   "id": "1b72f0b8",
   "metadata": {},
   "outputs": [
    {
     "data": {
      "text/plain": [
       "dict_values([42])"
      ]
     },
     "execution_count": 5,
     "metadata": {},
     "output_type": "execute_result"
    }
   ],
   "source": [
    "d.values()"
   ]
  },
  {
   "cell_type": "raw",
   "id": "3db3bfe3",
   "metadata": {},
   "source": [
    "3. What is the most significant distinction between a dictionary and a list?\n",
    "\n",
    "--> dictionary is an unordered collection of key-value pairs whereas a list is an ordered collection of sequence of objects/elements.\n",
    "--> Items in dictionary are accessed with keys and not positions which is the case with lists where we access elements based on index positions."
   ]
  },
  {
   "cell_type": "raw",
   "id": "9e2e0d05",
   "metadata": {},
   "source": [
    "4. What happens if you try to access spam['foo'] if spam is {'bar': 100}?\n",
    "\n",
    "--> #Given spam = {'bar' : 100} - which has 'bar' as the key and the respective value as 100.\n",
    "As there is no such key as 'foo' in spam so, spam['foo'] would give a KeyError - as shown below"
   ]
  },
  {
   "cell_type": "code",
   "execution_count": 6,
   "id": "b2dc8e41",
   "metadata": {},
   "outputs": [],
   "source": [
    "spam = {'bar' : 100}"
   ]
  },
  {
   "cell_type": "code",
   "execution_count": 7,
   "id": "2b88b7c0",
   "metadata": {},
   "outputs": [
    {
     "ename": "KeyError",
     "evalue": "'foo'",
     "output_type": "error",
     "traceback": [
      "\u001b[1;31m---------------------------------------------------------------------------\u001b[0m",
      "\u001b[1;31mKeyError\u001b[0m                                  Traceback (most recent call last)",
      "\u001b[1;32m<ipython-input-7-9b5a94d1de8d>\u001b[0m in \u001b[0;36m<module>\u001b[1;34m\u001b[0m\n\u001b[1;32m----> 1\u001b[1;33m \u001b[0mspam\u001b[0m\u001b[1;33m[\u001b[0m\u001b[1;34m'foo'\u001b[0m\u001b[1;33m]\u001b[0m\u001b[1;33m\u001b[0m\u001b[1;33m\u001b[0m\u001b[0m\n\u001b[0m",
      "\u001b[1;31mKeyError\u001b[0m: 'foo'"
     ]
    }
   ],
   "source": [
    "spam['foo']"
   ]
  },
  {
   "cell_type": "raw",
   "id": "4d1223d6",
   "metadata": {},
   "source": [
    "5. If a dictionary is stored in spam, what is the difference between the expressions 'cat' in spam and 'cat' in spam.keys()?\n",
    "\n",
    "--> The in operator here in the expressions gives a boolean value - True if it exists and False if it doesn't exist.\n",
    "--> So the expression 'cat' in spam checks whether there is a 'cat' key in the spam dictionary which is same as the expression 'cat' in spam.keys() which also checks whether there is a key called 'cat' as one of the keys in spam dictionary and returns True or False based on the existence of 'cat' key in the spam dictionary.\n",
    "--> So the answer is there is \"no difference\"."
   ]
  },
  {
   "cell_type": "raw",
   "id": "78c957bc",
   "metadata": {},
   "source": [
    "6. If a dictionary is stored in spam, what is the difference between the expressions 'cat' in spam and 'cat' in spam.values()?\n",
    "\n",
    "--> The in operator here in the expressions gives a boolean value - True if it exists and False if it doesn't exist.\n",
    "--> So the expression 'cat' in spam checks whether there is a 'cat' key in the spam dictionary\n",
    "and the expression 'cat' in spam.values() checks whether there is a value called 'cat' for one of the keys in spam dictionary."
   ]
  },
  {
   "cell_type": "raw",
   "id": "3c97a7a0",
   "metadata": {},
   "source": [
    "7. What is a shortcut for the following code?\n",
    "if 'color' not in spam:\n",
    "spam['color'] = 'black'\n",
    "\n",
    "--> To achieve the above we need to setdefault the key with a value of default 'black' if key i.e. 'color' is not in the spam dictionary - as shown below"
   ]
  },
  {
   "cell_type": "code",
   "execution_count": 8,
   "id": "dbc03ed9",
   "metadata": {},
   "outputs": [
    {
     "data": {
      "text/plain": [
       "'black'"
      ]
     },
     "execution_count": 8,
     "metadata": {},
     "output_type": "execute_result"
    }
   ],
   "source": [
    "spam.setdefault('color','black')"
   ]
  },
  {
   "cell_type": "code",
   "execution_count": 9,
   "id": "a4244fa8",
   "metadata": {},
   "outputs": [
    {
     "data": {
      "text/plain": [
       "'black'"
      ]
     },
     "execution_count": 9,
     "metadata": {},
     "output_type": "execute_result"
    }
   ],
   "source": [
    "spam['color']"
   ]
  },
  {
   "cell_type": "raw",
   "id": "d6296088",
   "metadata": {},
   "source": [
    "8. How do you \"pretty print\" dictionary values using which module and function?\n",
    "\n",
    "--> \"pretty print\" also known as pprint is a Python module made to print data structures in a pretty way.\n",
    "--> \"pretty print\" dictionary values can be done using pprint module and pprint() function as shown: pprint.pprint(object)"
   ]
  },
  {
   "cell_type": "code",
   "execution_count": 11,
   "id": "07591166",
   "metadata": {},
   "outputs": [
    {
     "data": {
      "text/plain": [
       "False"
      ]
     },
     "execution_count": 11,
     "metadata": {},
     "output_type": "execute_result"
    }
   ],
   "source": [
    "'x' in spam"
   ]
  },
  {
   "cell_type": "code",
   "execution_count": null,
   "id": "1774d009",
   "metadata": {},
   "outputs": [],
   "source": []
  }
 ],
 "metadata": {
  "kernelspec": {
   "display_name": "Python 3",
   "language": "python",
   "name": "python3"
  },
  "language_info": {
   "codemirror_mode": {
    "name": "ipython",
    "version": 3
   },
   "file_extension": ".py",
   "mimetype": "text/x-python",
   "name": "python",
   "nbconvert_exporter": "python",
   "pygments_lexer": "ipython3",
   "version": "3.8.8"
  }
 },
 "nbformat": 4,
 "nbformat_minor": 5
}
