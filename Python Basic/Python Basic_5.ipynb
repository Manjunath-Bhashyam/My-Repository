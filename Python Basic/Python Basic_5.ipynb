{
 "cells": [
  {
   "cell_type": "raw",
   "id": "1231e280",
   "metadata": {},
   "source": [
    "1. What does an empty dictionary's code look like?\n",
    "\n",
    "--> An empty dictionary can be designated as {} (just curly brackets) - as shown below."
   ]
  },
  {
   "cell_type": "code",
   "execution_count": 1,
   "id": "125d7bb3",
   "metadata": {},
   "outputs": [
    {
     "data": {
      "text/plain": [
       "dict"
      ]
     },
     "execution_count": 1,
     "metadata": {},
     "output_type": "execute_result"
    }
   ],
   "source": [
    "type({})"
   ]
  },
  {
   "cell_type": "raw",
   "id": "36a156b4",
   "metadata": {},
   "source": [
    "2. What is the value of a dictionary value with the key 'foo' and the value 42?\n",
    "\n",
    "--> # Given input would look like -> {'foo' : 42}"
   ]
  },
  {
   "cell_type": "code",
   "execution_count": 2,
   "id": "dd945125",
   "metadata": {},
   "outputs": [],
   "source": [
    "d = {'foo' : 42}"
   ]
  },
  {
   "cell_type": "code",
   "execution_count": 3,
   "id": "a821bf87",
   "metadata": {},
   "outputs": [
    {
     "data": {
      "text/plain": [
       "{'foo': 42}"
      ]
     },
     "execution_count": 3,
     "metadata": {},
     "output_type": "execute_result"
    }
   ],
   "source": [
    "d"
   ]
  },
  {
   "cell_type": "code",
   "execution_count": 4,
   "id": "cdc0614c",
   "metadata": {},
   "outputs": [
    {
     "data": {
      "text/plain": [
       "dict_items([('foo', 42)])"
      ]
     },
     "execution_count": 4,
     "metadata": {},
     "output_type": "execute_result"
    }
   ],
   "source": [
    "d.items()"
   ]
  },
  {
   "cell_type": "code",
   "execution_count": 5,
   "id": "da61c539",
   "metadata": {},
   "outputs": [
    {
     "data": {
      "text/plain": [
       "dict_values([42])"
      ]
     },
     "execution_count": 5,
     "metadata": {},
     "output_type": "execute_result"
    }
   ],
   "source": [
    "d.values()"
   ]
  },
  {
   "cell_type": "raw",
   "id": "849c2cf3",
   "metadata": {},
   "source": [
    "3. What is the most significant distinction between a dictionary and a list?\n",
    "\n",
    "--> dictionary is an unordered collection of key-value pairs whereas a list is an ordered collection of sequence of objects/elements.\n",
    "--> Items in dictionary are accessed with keys and not positions which is the case with lists where we access elements based on index positions."
   ]
  },
  {
   "cell_type": "raw",
   "id": "4d3ae1f1",
   "metadata": {},
   "source": [
    "4. What happens if you try to access spam['foo'] if spam is {'bar': 100}?\n",
    "\n",
    "--> #Given spam = {'bar' : 100} - which has 'bar' as the key and the respective value as 100.\n",
    "As there is no such key as 'foo' in spam so, spam['foo'] would give a KeyError - as shown below"
   ]
  },
  {
   "cell_type": "code",
   "execution_count": 6,
   "id": "df6979cc",
   "metadata": {},
   "outputs": [],
   "source": [
    "spam = {'bar' : 100}"
   ]
  },
  {
   "cell_type": "code",
   "execution_count": 7,
   "id": "55f38e0b",
   "metadata": {},
   "outputs": [
    {
     "ename": "KeyError",
     "evalue": "'foo'",
     "output_type": "error",
     "traceback": [
      "\u001b[1;31m---------------------------------------------------------------------------\u001b[0m",
      "\u001b[1;31mKeyError\u001b[0m                                  Traceback (most recent call last)",
      "\u001b[1;32m<ipython-input-7-9b5a94d1de8d>\u001b[0m in \u001b[0;36m<module>\u001b[1;34m\u001b[0m\n\u001b[1;32m----> 1\u001b[1;33m \u001b[0mspam\u001b[0m\u001b[1;33m[\u001b[0m\u001b[1;34m'foo'\u001b[0m\u001b[1;33m]\u001b[0m\u001b[1;33m\u001b[0m\u001b[1;33m\u001b[0m\u001b[0m\n\u001b[0m",
      "\u001b[1;31mKeyError\u001b[0m: 'foo'"
     ]
    }
   ],
   "source": [
    "spam['foo']"
   ]
  },
  {
   "cell_type": "raw",
   "id": "44a80b0a",
   "metadata": {},
   "source": [
    "5. If a dictionary is stored in spam, what is the difference between the expressions 'cat' in spam and 'cat' in spam.keys()?\n",
    "\n",
    "--> The in operator here in the expressions gives a boolean value - True if it exists and False if it doesn't exist.\n",
    "--> So the expression 'cat' in spam checks whether there is a 'cat' key in the spam dictionary which is same as the expression 'cat' in spam.keys() which also checks whether there is a key called 'cat' as one of the keys in spam dictionary and returns True or False based on the existence of 'cat' key in the spam dictionary.\n",
    "--> So the answer is there is \"no difference\"."
   ]
  },
  {
   "cell_type": "raw",
   "id": "a9528299",
   "metadata": {},
   "source": [
    "6. If a dictionary is stored in spam, what is the difference between the expressions 'cat' in spam and 'cat' in spam.values()?\n",
    "\n",
    "--> The in operator here in the expressions gives a boolean value - True if it exists and False if it doesn't exist.\n",
    "--> So the expression 'cat' in spam checks whether there is a 'cat' key in the spam dictionary\n",
    "and the expression 'cat' in spam.values() checks whether there is a value called 'cat' for one of the keys in spam dictionary."
   ]
  },
  {
   "cell_type": "raw",
   "id": "37834cbf",
   "metadata": {},
   "source": [
    "7. What is a shortcut for the following code?\n",
    "if 'color' not in spam:\n",
    "spam['color'] = 'black'\n",
    "\n",
    "--> To achieve the above we need to setdefault the key with a value of default 'black' if key i.e. 'color' is not in the spam dictionary - as shown below"
   ]
  },
  {
   "cell_type": "code",
   "execution_count": 8,
   "id": "cc2cd74f",
   "metadata": {},
   "outputs": [
    {
     "data": {
      "text/plain": [
       "'black'"
      ]
     },
     "execution_count": 8,
     "metadata": {},
     "output_type": "execute_result"
    }
   ],
   "source": [
    "spam.setdefault('color','black')"
   ]
  },
  {
   "cell_type": "code",
   "execution_count": 9,
   "id": "9320f56c",
   "metadata": {},
   "outputs": [
    {
     "data": {
      "text/plain": [
       "'black'"
      ]
     },
     "execution_count": 9,
     "metadata": {},
     "output_type": "execute_result"
    }
   ],
   "source": [
    "spam['color']"
   ]
  },
  {
   "cell_type": "raw",
   "id": "9f9143ff",
   "metadata": {},
   "source": [
    "8. How do you \"pretty print\" dictionary values using which module and function?\n",
    "\n",
    "--> \"pretty print\" also known as pprint is a Python module made to print data structures in a pretty way.\n",
    "--> \"pretty print\" dictionary values can be done using pprint module and pprint() function as shown: pprint.pprint(object)"
   ]
  },
  {
   "cell_type": "code",
   "execution_count": null,
   "id": "8c058664",
   "metadata": {},
   "outputs": [],
   "source": []
  }
 ],
 "metadata": {
  "kernelspec": {
   "display_name": "Python 3",
   "language": "python",
   "name": "python3"
  },
  "language_info": {
   "codemirror_mode": {
    "name": "ipython",
    "version": 3
   },
   "file_extension": ".py",
   "mimetype": "text/x-python",
   "name": "python",
   "nbconvert_exporter": "python",
   "pygments_lexer": "ipython3",
   "version": "3.8.8"
  }
 },
 "nbformat": 4,
 "nbformat_minor": 5
}
