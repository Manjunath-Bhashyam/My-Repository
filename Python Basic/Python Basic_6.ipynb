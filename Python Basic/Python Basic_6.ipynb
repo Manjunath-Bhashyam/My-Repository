{
 "cells": [
  {
   "cell_type": "raw",
   "id": "73294a9d",
   "metadata": {},
   "source": [
    "1. What are escape characters, and how do you use them?\n",
    "\n",
    "--> The backslash \"\\\" is called the \"escape\" character in Python Strings, which is used in representing certain whitespace characters.\n",
    "For example:  \"\\t\" is a tab, \"\\n\" is a newline and \"\\r\" is a carriage return - as shown below"
   ]
  },
  {
   "cell_type": "code",
   "execution_count": 1,
   "id": "20ef19ee",
   "metadata": {},
   "outputs": [
    {
     "name": "stdout",
     "output_type": "stream",
     "text": [
      "Manjunath\tBhashyam\n",
      "\n",
      "\n",
      "Manjunath\n",
      "Bhashyam\n",
      "\n",
      "\n",
      "Bhashyam\n"
     ]
    }
   ],
   "source": [
    "print(\"Manjunath\\tBhashyam\")\n",
    "print('\\n')\n",
    "print(\"Manjunath\\nBhashyam\")\n",
    "print('\\n')\n",
    "print(\"Manjunath\\rBhashyam\")"
   ]
  },
  {
   "cell_type": "raw",
   "id": "e2c274f9",
   "metadata": {},
   "source": [
    "2. What do the escape characters n and t stand for?\n",
    "\n",
    "--> The escape characters \"\\n\" is a newline, \"\\t\" is a tab."
   ]
  },
  {
   "cell_type": "raw",
   "id": "6e6d4cda",
   "metadata": {},
   "source": [
    "3. What is the way to include backslash characters in a string?\n",
    "\n",
    "--> In order to include backslash characters in a string we can use :\n",
    "a.) Two backslashes '\\\\' to represent a single backslash\n",
    "b.) Using a raw string to represent a backslash as r\"\\\" which would treat backslash (\\) as an literal character and not an escape character."
   ]
  },
  {
   "cell_type": "code",
   "execution_count": 2,
   "id": "cdc478bb",
   "metadata": {},
   "outputs": [
    {
     "name": "stdout",
     "output_type": "stream",
     "text": [
      "Backslash \\\n",
      "Backslash \\ \n"
     ]
    }
   ],
   "source": [
    "print(\"Backslash \\\\\")\n",
    "print(r\"Backslash \\ \")"
   ]
  },
  {
   "cell_type": "raw",
   "id": "302c0926",
   "metadata": {},
   "source": [
    "4. The string \"Howl's Moving Castle\" is a correct value. Why isn't the single quote character in the word Howl's not escaped a problem?\n",
    "\n",
    "--> Because the start and end of the string is enclosed within Double Quotes."
   ]
  },
  {
   "cell_type": "raw",
   "id": "cab0f511",
   "metadata": {},
   "source": [
    "5. How do you write a string of newlines if you don't want to use the n character?"
   ]
  },
  {
   "cell_type": "code",
   "execution_count": 3,
   "id": "663e6b05",
   "metadata": {},
   "outputs": [
    {
     "name": "stdout",
     "output_type": "stream",
     "text": [
      "print the next line in a newline\n",
      "this is the nextline\n"
     ]
    }
   ],
   "source": [
    "print(\"print the next line in a newline\",end=\"\\n\")\n",
    "print(\"this is the nextline\")"
   ]
  },
  {
   "cell_type": "raw",
   "id": "ef64704a",
   "metadata": {},
   "source": [
    "6. What are the values of the given expressions?\n",
    "'Hello, world!'[1]    --> 'e'\n",
    "'Hello, world!'[0:5]  --> 'Hello' \n",
    "'Hello, world!'[:5]   --> 'Hello'\n",
    "'Hello, world!'[3:]   --> 'lo, world!'"
   ]
  },
  {
   "cell_type": "code",
   "execution_count": 4,
   "id": "a7b3ad66",
   "metadata": {},
   "outputs": [
    {
     "data": {
      "text/plain": [
       "'e'"
      ]
     },
     "execution_count": 4,
     "metadata": {},
     "output_type": "execute_result"
    }
   ],
   "source": [
    "'Hello, world!'[1]"
   ]
  },
  {
   "cell_type": "code",
   "execution_count": 5,
   "id": "845bf909",
   "metadata": {},
   "outputs": [
    {
     "data": {
      "text/plain": [
       "'Hello'"
      ]
     },
     "execution_count": 5,
     "metadata": {},
     "output_type": "execute_result"
    }
   ],
   "source": [
    "'Hello, world!'[0:5]"
   ]
  },
  {
   "cell_type": "code",
   "execution_count": 6,
   "id": "6a96ca73",
   "metadata": {},
   "outputs": [
    {
     "data": {
      "text/plain": [
       "'Hello'"
      ]
     },
     "execution_count": 6,
     "metadata": {},
     "output_type": "execute_result"
    }
   ],
   "source": [
    "'Hello, world!'[:5]"
   ]
  },
  {
   "cell_type": "code",
   "execution_count": 7,
   "id": "637ac7a4",
   "metadata": {},
   "outputs": [
    {
     "data": {
      "text/plain": [
       "'lo, world!'"
      ]
     },
     "execution_count": 7,
     "metadata": {},
     "output_type": "execute_result"
    }
   ],
   "source": [
    "'Hello, world!'[3:]"
   ]
  },
  {
   "cell_type": "raw",
   "id": "2a07c83b",
   "metadata": {},
   "source": [
    "7. What are the values of the following expressions?\n",
    "'Hello'.upper()            --> 'HELLO'\n",
    "'Hello'.upper().isupper()  --> True\n",
    "'Hello'.upper().lower()    --> 'hello'"
   ]
  },
  {
   "cell_type": "code",
   "execution_count": 8,
   "id": "fd4c35f4",
   "metadata": {},
   "outputs": [
    {
     "data": {
      "text/plain": [
       "'HELLO'"
      ]
     },
     "execution_count": 8,
     "metadata": {},
     "output_type": "execute_result"
    }
   ],
   "source": [
    "'Hello'.upper()"
   ]
  },
  {
   "cell_type": "code",
   "execution_count": 9,
   "id": "4cdfc25b",
   "metadata": {},
   "outputs": [
    {
     "data": {
      "text/plain": [
       "True"
      ]
     },
     "execution_count": 9,
     "metadata": {},
     "output_type": "execute_result"
    }
   ],
   "source": [
    "'Hello'.upper().isupper()"
   ]
  },
  {
   "cell_type": "code",
   "execution_count": 10,
   "id": "2b86d101",
   "metadata": {},
   "outputs": [
    {
     "data": {
      "text/plain": [
       "'hello'"
      ]
     },
     "execution_count": 10,
     "metadata": {},
     "output_type": "execute_result"
    }
   ],
   "source": [
    "'Hello'.upper().lower()"
   ]
  },
  {
   "cell_type": "raw",
   "id": "3702422c",
   "metadata": {},
   "source": [
    "8. What are the values of the following expressions?\n",
    "\n",
    "'Remember, remember, the fifth of July.'.split()  --> ['Remember,', 'remember,', 'the', 'fifth', 'of', 'July.'] (splits at whitespaces as defult into list of sequence of strings)\n",
    "\n",
    "'-'.join('There can only one.'.split())           --> 'There-can-only-one.' (First splits at whitespaces into list of strings and then join operation with '-' "
   ]
  },
  {
   "cell_type": "code",
   "execution_count": 11,
   "id": "66472b81",
   "metadata": {},
   "outputs": [
    {
     "data": {
      "text/plain": [
       "['Remember,', 'remember,', 'the', 'fifth', 'of', 'July.']"
      ]
     },
     "execution_count": 11,
     "metadata": {},
     "output_type": "execute_result"
    }
   ],
   "source": [
    "'Remember, remember, the fifth of July.'.split()"
   ]
  },
  {
   "cell_type": "code",
   "execution_count": 12,
   "id": "eed97ba2",
   "metadata": {},
   "outputs": [
    {
     "data": {
      "text/plain": [
       "'There-can-only-one.'"
      ]
     },
     "execution_count": 12,
     "metadata": {},
     "output_type": "execute_result"
    }
   ],
   "source": [
    "'-'.join('There can only one.'.split())"
   ]
  },
  {
   "cell_type": "raw",
   "id": "dc074d80",
   "metadata": {},
   "source": [
    "9. What are the methods for right-justifying, left-justifying, and centering a string?\n",
    "\n",
    "--> These refer to string alignment - right, left and center according to the width specified and 'fillchr' (Default whitespace). Also shown below:"
   ]
  },
  {
   "cell_type": "code",
   "execution_count": 13,
   "id": "f222ec42",
   "metadata": {},
   "outputs": [
    {
     "data": {
      "text/plain": [
       "'********Manjunath Bhashyam'"
      ]
     },
     "execution_count": 13,
     "metadata": {},
     "output_type": "execute_result"
    }
   ],
   "source": [
    "#right-justifying a string\n",
    "\n",
    "name = \"Manjunath Bhashyam\"\n",
    "name.rjust(26,'*')"
   ]
  },
  {
   "cell_type": "code",
   "execution_count": 14,
   "id": "13716c13",
   "metadata": {},
   "outputs": [
    {
     "data": {
      "text/plain": [
       "'Manjunath Bhashyam********'"
      ]
     },
     "execution_count": 14,
     "metadata": {},
     "output_type": "execute_result"
    }
   ],
   "source": [
    "#left-justifying a string\n",
    "\n",
    "name = \"Manjunath Bhashyam\"\n",
    "name.ljust(26,'*')"
   ]
  },
  {
   "cell_type": "code",
   "execution_count": 15,
   "id": "5e038825",
   "metadata": {},
   "outputs": [
    {
     "data": {
      "text/plain": [
       "'****Manjunath Bhashyam****'"
      ]
     },
     "execution_count": 15,
     "metadata": {},
     "output_type": "execute_result"
    }
   ],
   "source": [
    "#centering a string\n",
    "\n",
    "name = \"Manjunath Bhashyam\"\n",
    "name.center(26,'*')"
   ]
  },
  {
   "cell_type": "raw",
   "id": "0c367db3",
   "metadata": {},
   "source": [
    "10. What is the best way to remove whitespace characters from the start or end?\n",
    "\n",
    "--> strip() method removes given characters from start and end of the original string. By default it removes whitespaces from start and end of the string and returns the same string without whitespaces.\n",
    "--> We have left strip and right strip to remove whitespaces on the lefthand side of the string and righthand side respectively as shown below."
   ]
  },
  {
   "cell_type": "code",
   "execution_count": 16,
   "id": "177da19f",
   "metadata": {},
   "outputs": [],
   "source": [
    "fullname = \"   Manjunath Bhashyam         \""
   ]
  },
  {
   "cell_type": "code",
   "execution_count": 17,
   "id": "aba1f3cf",
   "metadata": {},
   "outputs": [
    {
     "data": {
      "text/plain": [
       "'Manjunath Bhashyam'"
      ]
     },
     "execution_count": 17,
     "metadata": {},
     "output_type": "execute_result"
    }
   ],
   "source": [
    "fullname.strip()"
   ]
  },
  {
   "cell_type": "code",
   "execution_count": 18,
   "id": "b88c1907",
   "metadata": {},
   "outputs": [
    {
     "data": {
      "text/plain": [
       "'Manjunath Bhashyam         '"
      ]
     },
     "execution_count": 18,
     "metadata": {},
     "output_type": "execute_result"
    }
   ],
   "source": [
    "fullname.lstrip()"
   ]
  },
  {
   "cell_type": "code",
   "execution_count": 19,
   "id": "fa041bc8",
   "metadata": {},
   "outputs": [
    {
     "data": {
      "text/plain": [
       "'   Manjunath Bhashyam'"
      ]
     },
     "execution_count": 19,
     "metadata": {},
     "output_type": "execute_result"
    }
   ],
   "source": [
    "fullname.rstrip()"
   ]
  },
  {
   "cell_type": "code",
   "execution_count": null,
   "id": "19d7c4d1",
   "metadata": {},
   "outputs": [],
   "source": []
  }
 ],
 "metadata": {
  "kernelspec": {
   "display_name": "Python 3",
   "language": "python",
   "name": "python3"
  },
  "language_info": {
   "codemirror_mode": {
    "name": "ipython",
    "version": 3
   },
   "file_extension": ".py",
   "mimetype": "text/x-python",
   "name": "python",
   "nbconvert_exporter": "python",
   "pygments_lexer": "ipython3",
   "version": "3.8.8"
  }
 },
 "nbformat": 4,
 "nbformat_minor": 5
}
