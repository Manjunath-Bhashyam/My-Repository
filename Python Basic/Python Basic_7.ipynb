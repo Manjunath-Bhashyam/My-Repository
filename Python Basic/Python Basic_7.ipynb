{
 "cells": [
  {
   "cell_type": "raw",
   "id": "f1eb60ac",
   "metadata": {},
   "source": [
    "1. What is the name of the feature responsible for generating Regex objects?\n",
    "\n",
    "--> Regular expressions (also called as regex) are handled using Python's built-in re library.\n",
    "--> re. compile() function is responsible for generating Regex objects."
   ]
  },
  {
   "cell_type": "raw",
   "id": "0366f609",
   "metadata": {},
   "source": [
    "2. Why do raw strings often appear in Regex objects?\n",
    "\n",
    "--> raw strings are used in regex objects so that the backslashes are not escaped as shown below:"
   ]
  },
  {
   "cell_type": "code",
   "execution_count": 1,
   "id": "63d2f3b3",
   "metadata": {},
   "outputs": [
    {
     "name": "stdout",
     "output_type": "stream",
     "text": [
      "back\\nslash\n"
     ]
    }
   ],
   "source": [
    "print(r\"back\\nslash\")"
   ]
  },
  {
   "cell_type": "code",
   "execution_count": 2,
   "id": "8465f4ae",
   "metadata": {},
   "outputs": [
    {
     "name": "stdout",
     "output_type": "stream",
     "text": [
      "back\n",
      "slash\n"
     ]
    }
   ],
   "source": [
    "print(\"back\\nslash\")"
   ]
  },
  {
   "cell_type": "raw",
   "id": "832f18e1",
   "metadata": {},
   "source": [
    "3. What is the return value of the search() method?\n",
    "\n",
    "--> re.search() will take the pattern, scan the text, and then returns a Match object. If no pattern is found, nothing is returned.\n",
    "Example shown below:"
   ]
  },
  {
   "cell_type": "code",
   "execution_count": 3,
   "id": "1e29e13d",
   "metadata": {},
   "outputs": [],
   "source": [
    "import re"
   ]
  },
  {
   "cell_type": "code",
   "execution_count": 4,
   "id": "136493f4",
   "metadata": {},
   "outputs": [],
   "source": [
    "a = \"My name is Manjunath\""
   ]
  },
  {
   "cell_type": "code",
   "execution_count": 5,
   "id": "7a845f51",
   "metadata": {},
   "outputs": [],
   "source": [
    "pattern = 'is'"
   ]
  },
  {
   "cell_type": "code",
   "execution_count": 6,
   "id": "a763ae27",
   "metadata": {},
   "outputs": [
    {
     "data": {
      "text/plain": [
       "<re.Match object; span=(8, 10), match='is'>"
      ]
     },
     "execution_count": 6,
     "metadata": {},
     "output_type": "execute_result"
    }
   ],
   "source": [
    "re.search(pattern,a) # 'is' starts at 8th index position and ends at 10th index position which is shown in the output"
   ]
  },
  {
   "cell_type": "code",
   "execution_count": 7,
   "id": "6d85c1ee",
   "metadata": {},
   "outputs": [],
   "source": [
    "pattern = 'and'"
   ]
  },
  {
   "cell_type": "code",
   "execution_count": 8,
   "id": "0a815a83",
   "metadata": {},
   "outputs": [],
   "source": [
    "re.search(pattern,a) # as 'and' is not available in 'a' hence nothing returned via search() method"
   ]
  },
  {
   "cell_type": "raw",
   "id": "53e11cba",
   "metadata": {},
   "source": [
    "4. From a Match item, how do you get the actual strings that match the pattern?\n",
    "\n",
    "--> If we need the actual string that matched from a Match item we need to use the .group() method\n",
    "Ex. Syntax: match.group()"
   ]
  },
  {
   "cell_type": "raw",
   "id": "8e0a2f75",
   "metadata": {},
   "source": [
    "5. In the regex which created from the r'(\\d\\d\\d)-(\\d\\d\\d-\\d\\d\\d\\d)', what does group zero cover? Group 2? Group 1?\n",
    "\n",
    "--> group zero (0) returns the entire match\n",
    "--> group 1 covers the first set of parentheses\n",
    "--> group 2 covers the second set of parentheses"
   ]
  },
  {
   "cell_type": "raw",
   "id": "f0f41184",
   "metadata": {},
   "source": [
    "6. In standard expression syntax, parentheses and intervals have distinct meanings. How can you tell a regex that you want it to fit real parentheses and periods?\n",
    "\n",
    "--> To fit real parentheses we put backslash-open parenthesis '\\(' and backslash-close parenthesis '\\)'\n",
    "--> Similarly to fit real periods also we preceed with a backslash '\\.'"
   ]
  },
  {
   "cell_type": "raw",
   "id": "c1ffa215",
   "metadata": {},
   "source": [
    "7. The findall() method returns a string list or a list of string tuples. What causes it to return one of the two options?\n",
    "\n",
    "--> A list of string tuples is returned when the regex has groups and a string list is returned when regex has no groups."
   ]
  },
  {
   "cell_type": "raw",
   "id": "641233ee",
   "metadata": {},
   "source": [
    "8. In standard expressions, what does the | character mean?\n",
    "\n",
    "--> The pipe operator | represents 'or' statement and signifies matching either of two patterns in the string as shown below:"
   ]
  },
  {
   "cell_type": "code",
   "execution_count": 9,
   "id": "1034dc16",
   "metadata": {},
   "outputs": [
    {
     "data": {
      "text/plain": [
       "<re.Match object; span=(25, 29), match='what'>"
      ]
     },
     "execution_count": 9,
     "metadata": {},
     "output_type": "execute_result"
    }
   ],
   "source": [
    "re.search(r\"what|when\",\"In standard expressions, what does the | character mean\")"
   ]
  },
  {
   "cell_type": "raw",
   "id": "53f7a605",
   "metadata": {},
   "source": [
    "9. In regular expressions, what does the character stand for?\n",
    "\n",
    "--> Character in regular expressions such as digit or a single string are used to build up a pattern string. \n",
    "--> A character set is indicated by enclosing a set of characters in brackets ([ and ]). For example the character set [abc] can match with any of the characters a, b or c or a combination of these such as ab,bc,ca or abc or cab"
   ]
  },
  {
   "cell_type": "raw",
   "id": "b2fa6461",
   "metadata": {},
   "source": [
    "10.In regular expressions, what is the difference between the + and * characters?\n",
    "\n",
    "--> Both + and * are Quantifiers which are used along with special characters to know the no. of instances or occurrences of the pattern.\n",
    "--> where + indicates the occurrence of pattern one or more times whereas * indicates the occurrence of pattern zero or more times."
   ]
  },
  {
   "cell_type": "raw",
   "id": "06499143",
   "metadata": {},
   "source": [
    "11. What is the difference between {4} and {4,5} in regular expression?\n",
    "\n",
    "--> Both {4} and {4,5} also represent Quantifiers in regular expression.\n",
    "--> {4} indicates that it occurs exactly 4 times.\n",
    "--> {4,5} indicates that it occurs 4 to 5 times."
   ]
  },
  {
   "cell_type": "raw",
   "id": "62d44ab4",
   "metadata": {},
   "source": [
    "12. What do you mean by the \\d, \\w, and \\s shorthand character classes signify in regular expressions?\n",
    "\n",
    "--> \\d, \\w and \\s shorthand character classes in regular expressions represent identifiers for characters in patterns.\n",
    "--> \\d indicates a single digit\n",
    "--> \\w indicates a Alphanumeric\n",
    "--> \\s indicates whitespace characters.\n"
   ]
  },
  {
   "cell_type": "raw",
   "id": "811df17c",
   "metadata": {},
   "source": [
    "13. What do means by \\D, \\W, and \\S shorthand character classes signify in regular expressions?\n",
    "\n",
    "--> \\D, \\W and \\S shorthand character classes in regular expressions also represent identifiers for characters in patterns.\n",
    "--> \\D indicates a Non-Digit\n",
    "--> \\W indicates a Non-Alphanumeric\n",
    "--> \\S indicates a Non-Whitespace character"
   ]
  },
  {
   "cell_type": "raw",
   "id": "79753eb2",
   "metadata": {},
   "source": [
    "14. What is the difference between (.*)? and (.*)   ?\n",
    "\n",
    "--> . is a period and a wildcard character, * indicates the occurrence of zero or more times and ? indicates as it occurs once or none.\n",
    "--> Python’s regular expressions are greedy by default, which means that in ambiguous situations they will match the longest string possible. The nongreedy version of the curly brackets, which matches the shortest string possible, has the closing curly bracket followed by a question mark.\n",
    "--> (.*)? matches any character (.) any number of times (*) as few times as possible to make the regex match (?). We will get a match on any string, but will only capture a blank string because of the question mark\n",
    "--> (.*) captures a group zero or one times. That group consists of a run of any length (*) of any character (.). This also will match anything, but it will capture the first line, since the dot matches anything except a newline"
   ]
  },
  {
   "cell_type": "raw",
   "id": "40927601",
   "metadata": {},
   "source": [
    "15. What is the syntax for matching both numbers and lowercase letters with a character class?\n",
    "\n",
    "--> [0-9a-z] or [a-z0-9]"
   ]
  },
  {
   "cell_type": "raw",
   "id": "e35f8bec",
   "metadata": {},
   "source": [
    "16. What is the procedure for making a normal expression in regax case insensitive?\n",
    "\n",
    "--> re.IGNORECASE is used which allows for case-insensitive matching of the Regular Expression with the given string for example expressions like [A-Z] will also match lowercase letters. Usually, we pass it as an optional argument to re.compile()."
   ]
  },
  {
   "cell_type": "raw",
   "id": "32ea0ba9",
   "metadata": {},
   "source": [
    "17. What does the . character normally match? What does it match if re.DOTALL is passed as 2nd argument in re.compile()?\n",
    "\n",
    "--> (.) character normally matches any character except newline characters but when re.DOTALL is passed as the 2nd argument in re.compile() the behaviour or functionality of the (.) character is modified and it now matches the new line characters too."
   ]
  },
  {
   "cell_type": "raw",
   "id": "78ac50a8",
   "metadata": {},
   "source": [
    "18. If numRegex = re.compile(r'\\d+'), what will numRegex.sub('X', '11 drummers, 10 pipers, five rings, 4 hen') return?\n",
    "\n",
    "--> It returns 'X drummers, X pipers, five rings, X hen' - As numRegex.sub(repl,string,count=0) returns the string obtained by replacing the leftmost non-overlapping occurrences of pattern which is a digit here in string by the replacement repl which is X as shown below:"
   ]
  },
  {
   "cell_type": "code",
   "execution_count": 10,
   "id": "012bade4",
   "metadata": {},
   "outputs": [],
   "source": [
    "numRegex = re.compile(r'\\d+')"
   ]
  },
  {
   "cell_type": "code",
   "execution_count": 11,
   "id": "d6d241c8",
   "metadata": {},
   "outputs": [
    {
     "data": {
      "text/plain": [
       "'X drummers, X pipers, five rings, X hen'"
      ]
     },
     "execution_count": 11,
     "metadata": {},
     "output_type": "execute_result"
    }
   ],
   "source": [
    "numRegex.sub('X', '11 drummers, 10 pipers, five rings, 4 hen')"
   ]
  },
  {
   "cell_type": "raw",
   "id": "73411a4e",
   "metadata": {},
   "source": [
    "19. What does passing re.VERBOSE as the 2nd argument to re.compile() allow to do?\n",
    "\n",
    "--> Passing the re.VERBOSE as the 2nd argument to re.compile() the verbose mode is enabled which allows us to add whitespace and comments to the string.\n",
    "--> It also allows us to create a multiline string so that we can spread the regular expression definition over many lines, making it much more legible."
   ]
  },
  {
   "cell_type": "raw",
   "id": "89e26da8",
   "metadata": {},
   "source": [
    "20. How would you write a regex that match a number with comma for every three digits? It must match the given following:\n",
    "'42'\n",
    "'1,234'\n",
    "'6,368,745'\n",
    "but not the following:\n",
    "'12,34,567' (which has only two digits between the commas)\n",
    "'1234' (which lacks commas)"
   ]
  },
  {
   "cell_type": "code",
   "execution_count": 12,
   "id": "99166319",
   "metadata": {},
   "outputs": [],
   "source": [
    "#Answer\n",
    "pattern = re.compile(r'^\\d{1,3}(,\\d{3})*$')"
   ]
  },
  {
   "cell_type": "code",
   "execution_count": 13,
   "id": "5d5a7e76",
   "metadata": {},
   "outputs": [
    {
     "data": {
      "text/plain": [
       "<re.Match object; span=(0, 2), match='42'>"
      ]
     },
     "execution_count": 13,
     "metadata": {},
     "output_type": "execute_result"
    }
   ],
   "source": [
    "re.search(pattern,'42')"
   ]
  },
  {
   "cell_type": "code",
   "execution_count": 14,
   "id": "81d33a59",
   "metadata": {},
   "outputs": [
    {
     "data": {
      "text/plain": [
       "<re.Match object; span=(0, 5), match='1,234'>"
      ]
     },
     "execution_count": 14,
     "metadata": {},
     "output_type": "execute_result"
    }
   ],
   "source": [
    "re.search(pattern,'1,234')"
   ]
  },
  {
   "cell_type": "code",
   "execution_count": 15,
   "id": "a8a997d9",
   "metadata": {},
   "outputs": [
    {
     "data": {
      "text/plain": [
       "<re.Match object; span=(0, 9), match='6,368,745'>"
      ]
     },
     "execution_count": 15,
     "metadata": {},
     "output_type": "execute_result"
    }
   ],
   "source": [
    "re.search(pattern,'6,368,745')"
   ]
  },
  {
   "cell_type": "code",
   "execution_count": 16,
   "id": "a4c1ba28",
   "metadata": {},
   "outputs": [],
   "source": [
    "re.search(pattern,'12,34,567') #None/Nothing returned"
   ]
  },
  {
   "cell_type": "code",
   "execution_count": 17,
   "id": "caa0d952",
   "metadata": {},
   "outputs": [],
   "source": [
    "re.search(pattern,'1234') #None/Nothing returned"
   ]
  },
  {
   "cell_type": "raw",
   "id": "2addc40b",
   "metadata": {},
   "source": [
    "21. How would you write a regex that matches the full name of someone whose last name is Watanabe? You can assume that the first name that comes before it will always be one word that begins with a capital letter. The regex must match the following:\n",
    "'Haruto Watanabe'\n",
    "'Alice Watanabe'\n",
    "'RoboCop Watanabe'\n",
    "but not the following:\n",
    "'haruto Watanabe' (where the first name is not capitalized)\n",
    "'Mr. Watanabe' (where the preceding word has a nonletter character)\n",
    "'Watanabe' (which has no first name)\n",
    "'Haruto watanabe' (where Watanabe is not capitalized)"
   ]
  },
  {
   "cell_type": "code",
   "execution_count": 18,
   "id": "24631ff1",
   "metadata": {},
   "outputs": [],
   "source": [
    "#Answer\n",
    "pattern_1 = re.compile(r'[A-Z][a-z]*\\sWatanabe')"
   ]
  },
  {
   "cell_type": "code",
   "execution_count": 19,
   "id": "d6db2abb",
   "metadata": {},
   "outputs": [
    {
     "data": {
      "text/plain": [
       "<re.Match object; span=(0, 15), match='Haruto Watanabe'>"
      ]
     },
     "execution_count": 19,
     "metadata": {},
     "output_type": "execute_result"
    }
   ],
   "source": [
    "re.search(pattern_1,'Haruto Watanabe')"
   ]
  },
  {
   "cell_type": "code",
   "execution_count": 20,
   "id": "bc823680",
   "metadata": {},
   "outputs": [
    {
     "data": {
      "text/plain": [
       "<re.Match object; span=(0, 14), match='Alice Watanabe'>"
      ]
     },
     "execution_count": 20,
     "metadata": {},
     "output_type": "execute_result"
    }
   ],
   "source": [
    "re.search(pattern_1,'Alice Watanabe')"
   ]
  },
  {
   "cell_type": "code",
   "execution_count": 21,
   "id": "9859b0d7",
   "metadata": {},
   "outputs": [
    {
     "data": {
      "text/plain": [
       "<re.Match object; span=(4, 16), match='Cop Watanabe'>"
      ]
     },
     "execution_count": 21,
     "metadata": {},
     "output_type": "execute_result"
    }
   ],
   "source": [
    "re.search(pattern_1,'RoboCop Watanabe')"
   ]
  },
  {
   "cell_type": "code",
   "execution_count": 22,
   "id": "8f581546",
   "metadata": {},
   "outputs": [],
   "source": [
    "re.search(pattern_1,'haruto Watanabe') #None/Nothing returned"
   ]
  },
  {
   "cell_type": "code",
   "execution_count": 23,
   "id": "d622b134",
   "metadata": {},
   "outputs": [],
   "source": [
    "re.search(pattern_1,'Mr. Watanabe') #None/Nothing returned"
   ]
  },
  {
   "cell_type": "code",
   "execution_count": 24,
   "id": "0bc13f06",
   "metadata": {},
   "outputs": [],
   "source": [
    "re.search(pattern_1,'Watanabe') #None/Nothing returned"
   ]
  },
  {
   "cell_type": "code",
   "execution_count": 25,
   "id": "b2de3c77",
   "metadata": {},
   "outputs": [],
   "source": [
    "re.search(pattern_1,'Haruto watanabe') #None/Nothing returned"
   ]
  },
  {
   "cell_type": "raw",
   "id": "555df475",
   "metadata": {},
   "source": [
    "22. How would you write a regex that matches a sentence where the first word is either Alice, Bob, or Carol; the second word is either eats, pets, or throws; the third word is apples, cats, or baseballs; and the sentence ends with a period? This regex should be case-insensitive. It must match the following:\n",
    "'Alice eats apples.'\n",
    "'Bob pets cats.'\n",
    "'Carol throws baseballs.'\n",
    "'Alice throws Apples.'\n",
    "'BOB EATS CATS.'\n",
    "but not the following:\n",
    "'RoboCop eats apples.'\n",
    "'ALICE THROWS FOOTBALLS.'\n",
    "'Carol eats 7 cats.'"
   ]
  },
  {
   "cell_type": "code",
   "execution_count": 26,
   "id": "9ccdbc52",
   "metadata": {},
   "outputs": [],
   "source": [
    "#Answer\n",
    "pattern_2 = re.compile(r'(Alice|Bob|Carol)\\s(eats|pets|throws)\\s(apples|cats|baseballs).$',re.IGNORECASE)"
   ]
  },
  {
   "cell_type": "code",
   "execution_count": 27,
   "id": "34970c8b",
   "metadata": {},
   "outputs": [
    {
     "data": {
      "text/plain": [
       "<re.Match object; span=(0, 18), match='Alice eats apples.'>"
      ]
     },
     "execution_count": 27,
     "metadata": {},
     "output_type": "execute_result"
    }
   ],
   "source": [
    "re.search(pattern_2, 'Alice eats apples.')"
   ]
  },
  {
   "cell_type": "code",
   "execution_count": 28,
   "id": "2d2c6519",
   "metadata": {},
   "outputs": [
    {
     "data": {
      "text/plain": [
       "<re.Match object; span=(0, 14), match='Bob pets cats.'>"
      ]
     },
     "execution_count": 28,
     "metadata": {},
     "output_type": "execute_result"
    }
   ],
   "source": [
    "re.search(pattern_2, 'Bob pets cats.')"
   ]
  },
  {
   "cell_type": "code",
   "execution_count": 29,
   "id": "2390e8e5",
   "metadata": {},
   "outputs": [
    {
     "data": {
      "text/plain": [
       "<re.Match object; span=(0, 23), match='Carol throws baseballs.'>"
      ]
     },
     "execution_count": 29,
     "metadata": {},
     "output_type": "execute_result"
    }
   ],
   "source": [
    "re.search(pattern_2, 'Carol throws baseballs.')"
   ]
  },
  {
   "cell_type": "code",
   "execution_count": 30,
   "id": "91effddd",
   "metadata": {},
   "outputs": [
    {
     "data": {
      "text/plain": [
       "<re.Match object; span=(0, 20), match='Alice throws Apples.'>"
      ]
     },
     "execution_count": 30,
     "metadata": {},
     "output_type": "execute_result"
    }
   ],
   "source": [
    "re.search(pattern_2, 'Alice throws Apples.')"
   ]
  },
  {
   "cell_type": "code",
   "execution_count": 31,
   "id": "9183f30e",
   "metadata": {},
   "outputs": [],
   "source": [
    "re.search(pattern_2, 'RoboCop eats apples.') #None/Nothing returned"
   ]
  },
  {
   "cell_type": "code",
   "execution_count": 32,
   "id": "8f47d235",
   "metadata": {},
   "outputs": [],
   "source": [
    "re.search(pattern_2, 'ALICE THROWS FOOTBALLS.') #None/Nothing returned"
   ]
  },
  {
   "cell_type": "code",
   "execution_count": 33,
   "id": "7c0030f9",
   "metadata": {},
   "outputs": [],
   "source": [
    "re.search(pattern_2, 'Carol eats 7 cats.') #None/Nothing returned"
   ]
  },
  {
   "cell_type": "code",
   "execution_count": 34,
   "id": "ccdb3400",
   "metadata": {},
   "outputs": [],
   "source": [
    "#Testingfurther without ending with period .\n",
    "re.search(pattern_2, 'Alice throws Apples') #None/Nothing returned"
   ]
  },
  {
   "cell_type": "code",
   "execution_count": null,
   "id": "a0869d0d",
   "metadata": {},
   "outputs": [],
   "source": []
  }
 ],
 "metadata": {
  "kernelspec": {
   "display_name": "Python 3",
   "language": "python",
   "name": "python3"
  },
  "language_info": {
   "codemirror_mode": {
    "name": "ipython",
    "version": 3
   },
   "file_extension": ".py",
   "mimetype": "text/x-python",
   "name": "python",
   "nbconvert_exporter": "python",
   "pygments_lexer": "ipython3",
   "version": "3.8.8"
  }
 },
 "nbformat": 4,
 "nbformat_minor": 5
}
