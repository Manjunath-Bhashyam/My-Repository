{
 "cells": [
  {
   "cell_type": "raw",
   "id": "5387d9f1",
   "metadata": {},
   "source": [
    "1. In what modes should the PdfFileReader() and PdfFileWriter() File objects will be opened?\n",
    "\n",
    "--> PdfFileReader() should be opened in read binary mode (mode='rb')\n",
    "--> PdfFileWriter() should be opened in write binary mode (mode='wb')"
   ]
  },
  {
   "cell_type": "raw",
   "id": "29c99ad6",
   "metadata": {},
   "source": [
    "2. From a PdfFileReader object, how do you get a Page object for page 5?\n",
    "\n",
    "--> Using .getPage(4) call from a PdfFileReader object we will get a page object for page 5, since PyPDF2 uses a zero-based index for getting pages."
   ]
  },
  {
   "cell_type": "raw",
   "id": "610fd18b",
   "metadata": {},
   "source": [
    "3. What PdfFileReader variable stores the number of pages in the PDF document?\n",
    "\n",
    "--> numPages variable stores the integer value of number of pages in the PdfFileReader object/PDF document."
   ]
  },
  {
   "cell_type": "raw",
   "id": "d41e7d10",
   "metadata": {},
   "source": [
    "4. If a PdfFileReader object’s PDF is encrypted with the password swordfish, what must you do before you can obtain Page objects from it?\n",
    "\n",
    "--> Whenever accessing an encrypted PdfFileReader object’s PDF we must call decrypt('password') first.\n",
    "--> call decrypt('swordfish')"
   ]
  },
  {
   "cell_type": "raw",
   "id": "dbce4867",
   "metadata": {},
   "source": [
    "5. What methods do you use to rotate a page?\n",
    "\n",
    "--> Using rotateClockwise() and rotateCounterClockwise() methods. The degrees to rotate is passed as an integer argument."
   ]
  },
  {
   "cell_type": "code",
   "execution_count": 4,
   "id": "42556116",
   "metadata": {},
   "outputs": [],
   "source": [
    "#!pip install python-docx"
   ]
  },
  {
   "cell_type": "raw",
   "id": "0e836d5f",
   "metadata": {},
   "source": [
    "6. What is the difference between a Run object and a Paragraph object?\n",
    "\n",
    "--> A Run object is a contiguous run of text in a Word Document with the same style. A new Run object is needed whenever the text style changes.\n",
    "--> A document consists of a list of Paragraph objects for the paragraphs in the document. A new paragraph begins whenever the user presses enter or return while typing in a Word document. A paragraph begins on a new line and contains multiple runs."
   ]
  },
  {
   "cell_type": "raw",
   "id": "64e6fb6d",
   "metadata": {},
   "source": [
    "7. How do you obtain a list of Paragraph objects for a Document object that’s stored in a variable named doc?\n",
    "\n",
    "--> Using doc.paragraphs"
   ]
  },
  {
   "cell_type": "raw",
   "id": "5978daf6",
   "metadata": {},
   "source": [
    "8. What type of object has bold, underline, italic, strike, and outline variables?\n",
    "\n",
    "--> A Run Object has the mentioned text attributes.\n",
    "--> bold       - The text appears in bold.\n",
    "--> underline  - The text is underlined.\n",
    "-- italic      - The text appears in italic.\n",
    "--> strike     - The text appears with strikethrough.\n",
    "--> outline    - The text appears outlined rather than solid."
   ]
  },
  {
   "cell_type": "raw",
   "id": "dbea0efb",
   "metadata": {},
   "source": [
    "9. What is the difference between False, True, and None for the bold variable?\n",
    "\n",
    "--> False makes it always not bolded as the bold attribute is always disabled.\n",
    "--> True always makes the Run object bolded no matter what other styles are applied to the run.\n",
    "--> None will make the Run object just use the style’s default bold setting."
   ]
  },
  {
   "cell_type": "raw",
   "id": "e5ca03ac",
   "metadata": {},
   "source": [
    "10. How do you create a Document object for a new Word document?\n",
    "\n",
    "--> Using docx.Document() function\n",
    "--> docx.Document('docfilename.docx')"
   ]
  },
  {
   "cell_type": "raw",
   "id": "3d92a123",
   "metadata": {},
   "source": [
    "11. How do you add a paragraph with the text 'Hello, there!' to a Document object stored in a variable named doc?\n",
    "\n",
    "--> doc.add_paragraph('Hello world!')"
   ]
  },
  {
   "cell_type": "raw",
   "id": "054aa410",
   "metadata": {},
   "source": [
    "12. What integers represent the levels of headings available in Word documents?\n",
    "\n",
    "--> Integers 1 to 4 are for various heading levels, with 1 being the main heading and 4 the lowest subheading.\n",
    "--> The integer 0 makes the heading the Title style, which is used for the top of the document."
   ]
  }
 ],
 "metadata": {
  "kernelspec": {
   "display_name": "Python 3",
   "language": "python",
   "name": "python3"
  },
  "language_info": {
   "codemirror_mode": {
    "name": "ipython",
    "version": 3
   },
   "file_extension": ".py",
   "mimetype": "text/x-python",
   "name": "python",
   "nbconvert_exporter": "python",
   "pygments_lexer": "ipython3",
   "version": "3.8.8"
  }
 },
 "nbformat": 4,
 "nbformat_minor": 5
}
