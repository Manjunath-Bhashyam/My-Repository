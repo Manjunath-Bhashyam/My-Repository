{
 "cells": [
  {
   "cell_type": "raw",
   "id": "f5555b73",
   "metadata": {},
   "source": [
    "1. Create an assert statement that throws an AssertionError if the variable spam is a negative integer."
   ]
  },
  {
   "cell_type": "code",
   "execution_count": 1,
   "id": "a70d8fc7",
   "metadata": {},
   "outputs": [
    {
     "name": "stdout",
     "output_type": "stream",
     "text": [
      "17\n"
     ]
    }
   ],
   "source": [
    "#Answer\n",
    "spam = int(input())\n",
    "assert spam > 0, 'AssertionError as variable spam is negative integer'"
   ]
  },
  {
   "cell_type": "code",
   "execution_count": 2,
   "id": "4b6083ad",
   "metadata": {},
   "outputs": [
    {
     "name": "stdout",
     "output_type": "stream",
     "text": [
      "-17\n"
     ]
    },
    {
     "ename": "AssertionError",
     "evalue": "AssertionError as variable spam is negative integer",
     "output_type": "error",
     "traceback": [
      "\u001b[1;31m---------------------------------------------------------------------------\u001b[0m",
      "\u001b[1;31mAssertionError\u001b[0m                            Traceback (most recent call last)",
      "\u001b[1;32m<ipython-input-2-8fbf2a89bd74>\u001b[0m in \u001b[0;36m<module>\u001b[1;34m\u001b[0m\n\u001b[0;32m      1\u001b[0m \u001b[0mspam\u001b[0m \u001b[1;33m=\u001b[0m \u001b[0mint\u001b[0m\u001b[1;33m(\u001b[0m\u001b[0minput\u001b[0m\u001b[1;33m(\u001b[0m\u001b[1;33m)\u001b[0m\u001b[1;33m)\u001b[0m\u001b[1;33m\u001b[0m\u001b[1;33m\u001b[0m\u001b[0m\n\u001b[1;32m----> 2\u001b[1;33m \u001b[1;32massert\u001b[0m \u001b[0mspam\u001b[0m \u001b[1;33m>\u001b[0m \u001b[1;36m0\u001b[0m\u001b[1;33m,\u001b[0m \u001b[1;34m'AssertionError as variable spam is negative integer'\u001b[0m\u001b[1;33m\u001b[0m\u001b[1;33m\u001b[0m\u001b[0m\n\u001b[0m",
      "\u001b[1;31mAssertionError\u001b[0m: AssertionError as variable spam is negative integer"
     ]
    }
   ],
   "source": [
    "spam = int(input())\n",
    "assert spam > 0, 'AssertionError as variable spam is negative integer'"
   ]
  },
  {
   "cell_type": "raw",
   "id": "50f8de3c",
   "metadata": {},
   "source": [
    "2. Write an assert statement that triggers an AssertionError if the variables eggs and bacon contain strings that are the same as each other, even if their cases are different (that is, 'hello' and 'hello' are considered the same, and 'goodbye' and 'GOODbye' are also considered the same)."
   ]
  },
  {
   "cell_type": "code",
   "execution_count": 3,
   "id": "cc34db79",
   "metadata": {},
   "outputs": [
    {
     "ename": "AssertionError",
     "evalue": "variables eggs and bacon are the same as each other",
     "output_type": "error",
     "traceback": [
      "\u001b[1;31m---------------------------------------------------------------------------\u001b[0m",
      "\u001b[1;31mAssertionError\u001b[0m                            Traceback (most recent call last)",
      "\u001b[1;32m<ipython-input-3-c16245261572>\u001b[0m in \u001b[0;36m<module>\u001b[1;34m\u001b[0m\n\u001b[0;32m      2\u001b[0m \u001b[0meggs\u001b[0m \u001b[1;33m=\u001b[0m \u001b[1;34m'hello'\u001b[0m\u001b[1;33m\u001b[0m\u001b[1;33m\u001b[0m\u001b[0m\n\u001b[0;32m      3\u001b[0m \u001b[0mbacon\u001b[0m \u001b[1;33m=\u001b[0m \u001b[1;34m'hello'\u001b[0m\u001b[1;33m\u001b[0m\u001b[1;33m\u001b[0m\u001b[0m\n\u001b[1;32m----> 4\u001b[1;33m \u001b[1;32massert\u001b[0m \u001b[0meggs\u001b[0m\u001b[1;33m.\u001b[0m\u001b[0mlower\u001b[0m\u001b[1;33m(\u001b[0m\u001b[1;33m)\u001b[0m \u001b[1;33m!=\u001b[0m \u001b[0mbacon\u001b[0m\u001b[1;33m.\u001b[0m\u001b[0mlower\u001b[0m\u001b[1;33m(\u001b[0m\u001b[1;33m)\u001b[0m\u001b[1;33m,\u001b[0m \u001b[1;34m'variables eggs and bacon are the same as each other'\u001b[0m\u001b[1;33m\u001b[0m\u001b[1;33m\u001b[0m\u001b[0m\n\u001b[0m",
      "\u001b[1;31mAssertionError\u001b[0m: variables eggs and bacon are the same as each other"
     ]
    }
   ],
   "source": [
    "#Code below gives assertion error\n",
    "eggs = 'hello'\n",
    "bacon = 'hello'\n",
    "assert eggs.lower() != bacon.lower(), 'variables eggs and bacon are the same as each other'"
   ]
  },
  {
   "cell_type": "code",
   "execution_count": 4,
   "id": "9246f2db",
   "metadata": {},
   "outputs": [],
   "source": [
    "#Code below doesn't give assertion error\n",
    "eggs = 'hello'\n",
    "bacon = 'GOODBYE'\n",
    "assert eggs.lower() != bacon.lower(), 'variables eggs and bacon are the same as each other'"
   ]
  },
  {
   "cell_type": "raw",
   "id": "8da481ba",
   "metadata": {},
   "source": [
    "3. Create an assert statement that throws an AssertionError every time."
   ]
  },
  {
   "cell_type": "code",
   "execution_count": 5,
   "id": "62440904",
   "metadata": {},
   "outputs": [
    {
     "name": "stdout",
     "output_type": "stream",
     "text": [
      "K\n"
     ]
    },
    {
     "ename": "AssertionError",
     "evalue": "I will throw an AssertionError every time",
     "output_type": "error",
     "traceback": [
      "\u001b[1;31m---------------------------------------------------------------------------\u001b[0m",
      "\u001b[1;31mAssertionError\u001b[0m                            Traceback (most recent call last)",
      "\u001b[1;32m<ipython-input-5-46593a678fcd>\u001b[0m in \u001b[0;36m<module>\u001b[1;34m\u001b[0m\n\u001b[0;32m      1\u001b[0m \u001b[1;31m#Answer\u001b[0m\u001b[1;33m\u001b[0m\u001b[1;33m\u001b[0m\u001b[1;33m\u001b[0m\u001b[0m\n\u001b[0;32m      2\u001b[0m \u001b[0ma\u001b[0m \u001b[1;33m=\u001b[0m \u001b[0minput\u001b[0m\u001b[1;33m(\u001b[0m\u001b[1;33m)\u001b[0m\u001b[1;33m\u001b[0m\u001b[1;33m\u001b[0m\u001b[0m\n\u001b[1;32m----> 3\u001b[1;33m \u001b[1;32massert\u001b[0m \u001b[1;32mFalse\u001b[0m\u001b[1;33m,\u001b[0m \u001b[1;34m'I will throw an AssertionError every time'\u001b[0m\u001b[1;33m\u001b[0m\u001b[1;33m\u001b[0m\u001b[0m\n\u001b[0m\u001b[0;32m      4\u001b[0m \u001b[0mprint\u001b[0m\u001b[1;33m(\u001b[0m\u001b[0ma\u001b[0m\u001b[1;33m+\u001b[0m\u001b[1;34m'bc'\u001b[0m\u001b[1;33m)\u001b[0m\u001b[1;33m\u001b[0m\u001b[1;33m\u001b[0m\u001b[0m\n",
      "\u001b[1;31mAssertionError\u001b[0m: I will throw an AssertionError every time"
     ]
    }
   ],
   "source": [
    "#Answer\n",
    "a = input()\n",
    "assert False, 'I will throw an AssertionError every time'\n",
    "print(a+'bc') # This doesn't execute as the above throws an assertion error everytime"
   ]
  },
  {
   "cell_type": "raw",
   "id": "1998effe",
   "metadata": {},
   "source": [
    "4. What are the two lines that must be present in your software in order to call logging.debug()?"
   ]
  },
  {
   "cell_type": "code",
   "execution_count": 8,
   "id": "f5b84857",
   "metadata": {},
   "outputs": [],
   "source": [
    "#Answer\n",
    "import logging\n",
    "logging.basicConfig(filename = 'logfile.txt', level = logging.debug, format = '%(asctime)s - %(levelname)s - %(message)s')"
   ]
  },
  {
   "cell_type": "raw",
   "id": "7fa952e8",
   "metadata": {},
   "source": [
    "5. What are the two lines that your program must have in order to have logging.debug() send a logging message to a file named programLog.txt?"
   ]
  },
  {
   "cell_type": "code",
   "execution_count": 9,
   "id": "6a57dbbd",
   "metadata": {},
   "outputs": [],
   "source": [
    "#Answer\n",
    "import logging\n",
    "logging.basicConfig(filename = 'logfile.txt', level = logging.debug, format = '%(asctime)s - %(levelname)s - %(message)s')"
   ]
  },
  {
   "cell_type": "raw",
   "id": "f9d08ed8",
   "metadata": {},
   "source": [
    "6. What are the five levels of logging?\n",
    "\n",
    "--> logging.debug()    - Used for small details and while diagnosing problems\n",
    "--> logging.info()     - Used to record information on general events or confirm a program is working to the point\n",
    "--> logging.warning()  - Used to indicate a potential problem that may prevent the program to work in the future\n",
    "--> logging.error()    - Used to record an error that caused program to fail to do something\n",
    "--> logging.critical() - Used to indicate fatal error that has caused"
   ]
  },
  {
   "cell_type": "raw",
   "id": "bef27b49",
   "metadata": {},
   "source": [
    "7. What line of code would you add to your software to disable all logging messages?\n",
    "\n",
    "--> We can disable all logging messages by adding a single logging.disable(logging.CRITICAL) call."
   ]
  },
  {
   "cell_type": "raw",
   "id": "6834497b",
   "metadata": {},
   "source": [
    "8. Why is using logging messages better than using print() to display the same message?\n",
    "\n",
    "--> Using print() to display a log message is not preferrable because in case we want to disable/don't want the message to appear we will have to remove or comment every print() function which in a production level code/environment would take a lot of time whereas with logging messages we are free to add as many as logging messages we like and can always disable them later by adding a single logging.disable(logging.CRITICAL) call without removing the logging function calls.\n",
    "--> logging module makes it easy to switch between showing and hiding log messages. Logging messages also provides timestamp."
   ]
  },
  {
   "cell_type": "raw",
   "id": "67469cf5",
   "metadata": {},
   "source": [
    "9. What are the differences between the Step Over, Step In, and Step Out buttons in the debugger?\n",
    "\n",
    "--> Step button will cause the debugger to execute the next line of code and pause. If the next line of\n",
    "code is a function call, the debugger will “step into” that function and jump to the first line of code of that function.\n",
    "--> Over button will execute the next line of code, similar to the Step button. However, if the next line of code is a function call, the Over button will “step over” the code in the function. The function’s code will be executed at full speed and the debugger will pause as soon as the function call returns.\n",
    "--> Out button will cause the debugger to execute lines of code at full speed until it returns from the current function. If we have stepped into a function call with the Step button and now simply want to keep executing instructions until we get back out, we can use the Out button to “step out” of the current function call."
   ]
  },
  {
   "cell_type": "raw",
   "id": "ef6c89af",
   "metadata": {},
   "source": [
    "10.After you click Continue, when will the debugger stop ?\n",
    "\n",
    "--> It will stop only when a breakpoint is encountered."
   ]
  },
  {
   "cell_type": "raw",
   "id": "92bdbc0f",
   "metadata": {},
   "source": [
    "11. What is the concept of a breakpoint?\n",
    "\n",
    "--> A breakpoint is a pause point which can be set on a specific line of code which forces the debugger to pause whenever the program execution reaches that line."
   ]
  }
 ],
 "metadata": {
  "kernelspec": {
   "display_name": "Python 3",
   "language": "python",
   "name": "python3"
  },
  "language_info": {
   "codemirror_mode": {
    "name": "ipython",
    "version": 3
   },
   "file_extension": ".py",
   "mimetype": "text/x-python",
   "name": "python",
   "nbconvert_exporter": "python",
   "pygments_lexer": "ipython3",
   "version": "3.8.8"
  }
 },
 "nbformat": 4,
 "nbformat_minor": 5
}
