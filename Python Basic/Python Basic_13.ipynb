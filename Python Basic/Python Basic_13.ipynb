{
 "cells": [
  {
   "cell_type": "raw",
   "id": "4f154554",
   "metadata": {},
   "source": [
    "1. What advantages do Excel spreadsheets have over CSV spreadsheets?\n",
    "\n",
    "CSV files lack many features over excel spreadsheets as listed below:\n",
    "---> Don’t have types for their values—everything is a string\n",
    "---> Don’t have settings for font size or color\n",
    "---> Don’t have multiple worksheets\n",
    "---> Can’t specify cell widths and heights\n",
    "---> Can’t have merged cells\n",
    "---> Can’t have images or charts embedded in them"
   ]
  },
  {
   "cell_type": "raw",
   "id": "e4b30a5f",
   "metadata": {},
   "source": [
    "2.What do you pass to csv.reader() and csv.writer() to create reader and writer objects?\n",
    "\n",
    "--> We pass the file object that open() function returns to csv.reader() and csv.writer() to create reader and writer objects respectively."
   ]
  },
  {
   "cell_type": "raw",
   "id": "488050ad",
   "metadata": {},
   "source": [
    "3. What modes do File objects for reader and writer objects need to be opened in?\n",
    "\n",
    "--> The File objects for reader objects need to be opened in read 'r' mode.\n",
    "--> The File objects for writer objects need to be opened in write 'w' mode."
   ]
  },
  {
   "cell_type": "raw",
   "id": "7c831126",
   "metadata": {},
   "source": [
    "4. What method takes a list argument and writes it to a CSV file?\n",
    "\n",
    "--> The writerow() method for Writer objects takes a list argument. Each value in the list is placed in its own cell in the output CSV file. The return value of writerow() is the number of characters written to the file for that row (including newline characters)."
   ]
  },
  {
   "cell_type": "raw",
   "id": "ad61f56b",
   "metadata": {},
   "source": [
    "5. What do the keyword arguments delimiter and line terminator do?\n",
    "\n",
    "--> delimiter is the character that appears between cells on a row and the delimiter argument changes the string which separates the cells in a row. By default, the delimiter for a CSV file is a comma. ','\n",
    "--> line terminator is the character that comes at the end of a row and the line terminator argument changes the string which separates rows. By default, the line terminator is a newline. '\\n'"
   ]
  },
  {
   "cell_type": "raw",
   "id": "d291e270",
   "metadata": {},
   "source": [
    "6. What function takes a string of JSON data and returns a Python data structure?\n",
    "\n",
    "--> json.loads() function (which means “load string”) - translates a string containing JSON data into a Python value/data structure. "
   ]
  },
  {
   "cell_type": "raw",
   "id": "ea49cf7d",
   "metadata": {},
   "source": [
    "7. What function takes a Python data structure and returns a string of JSON data?\n",
    "\n",
    "--> json.dumps() function (which means “dump string”) translates a Python value/data structure into a string of JSON-formatted data."
   ]
  }
 ],
 "metadata": {
  "kernelspec": {
   "display_name": "Python 3",
   "language": "python",
   "name": "python3"
  },
  "language_info": {
   "codemirror_mode": {
    "name": "ipython",
    "version": 3
   },
   "file_extension": ".py",
   "mimetype": "text/x-python",
   "name": "python",
   "nbconvert_exporter": "python",
   "pygments_lexer": "ipython3",
   "version": "3.8.8"
  }
 },
 "nbformat": 4,
 "nbformat_minor": 5
}
