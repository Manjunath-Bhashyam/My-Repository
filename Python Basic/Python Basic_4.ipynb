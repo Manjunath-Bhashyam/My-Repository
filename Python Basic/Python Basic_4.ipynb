{
 "cells": [
  {
   "cell_type": "raw",
   "id": "92c0124d",
   "metadata": {},
   "source": [
    "1. What exactly is []?\n",
    "\n",
    "--> It's an empty list and [] are square brackets which designate a list"
   ]
  },
  {
   "cell_type": "code",
   "execution_count": 1,
   "id": "348dc54e",
   "metadata": {},
   "outputs": [
    {
     "data": {
      "text/plain": [
       "list"
      ]
     },
     "execution_count": 1,
     "metadata": {},
     "output_type": "execute_result"
    }
   ],
   "source": [
    "type([])"
   ]
  },
  {
   "cell_type": "raw",
   "id": "5c70e2b8",
   "metadata": {},
   "source": [
    "2. In a list of values stored in a variable called spam, how would you assign the value 'hello' as the third value? (Assume [2, 4, 6, 8, 10] are in spam.)"
   ]
  },
  {
   "cell_type": "code",
   "execution_count": 2,
   "id": "f12262e5",
   "metadata": {},
   "outputs": [
    {
     "data": {
      "text/plain": [
       "[2, 4, 'hello', 8, 10]"
      ]
     },
     "execution_count": 2,
     "metadata": {},
     "output_type": "execute_result"
    }
   ],
   "source": [
    "# given as spam = [2,4,6,8,10] and third value to be 'hello' can be done by assigning to the respective index position\n",
    "\n",
    "spam = [2,4,6,8,10]\n",
    "spam[2] = 'hello'\n",
    "spam"
   ]
  },
  {
   "cell_type": "markdown",
   "id": "e947597e",
   "metadata": {},
   "source": [
    "Let's pretend the spam includes the list ['a', 'b', 'c', 'd'] for the next three queries."
   ]
  },
  {
   "cell_type": "raw",
   "id": "f561402f",
   "metadata": {},
   "source": [
    "3. What is the value of spam[int(int('3' * 2) / 11)]?\n",
    "\n",
    "--> It will be 'd' as spam[int(int('3' * 2) / 11)] = spam[3] which is 'd' - as shown below:"
   ]
  },
  {
   "cell_type": "code",
   "execution_count": 3,
   "id": "528049b9",
   "metadata": {},
   "outputs": [],
   "source": [
    "#Given\n",
    "spam = ['a', 'b', 'c', 'd']"
   ]
  },
  {
   "cell_type": "code",
   "execution_count": 4,
   "id": "3451478a",
   "metadata": {},
   "outputs": [
    {
     "data": {
      "text/plain": [
       "'d'"
      ]
     },
     "execution_count": 4,
     "metadata": {},
     "output_type": "execute_result"
    }
   ],
   "source": [
    "spam[int(int('3' * 2) / 11)] # '3'*2 gives '33', int('33') gives 33 and 33/11 = 3.0 and int(3.0) = 3,hence spam[3] = 'd'"
   ]
  },
  {
   "cell_type": "raw",
   "id": "9b0fa9d7",
   "metadata": {},
   "source": [
    "4. What is the value of spam[-1]?\n",
    "\n",
    "--> It will be 'd' as spam[-1] gives the last element which is the first element in reverse direction - as shown below."
   ]
  },
  {
   "cell_type": "code",
   "execution_count": 5,
   "id": "c8fe2368",
   "metadata": {},
   "outputs": [
    {
     "data": {
      "text/plain": [
       "'d'"
      ]
     },
     "execution_count": 5,
     "metadata": {},
     "output_type": "execute_result"
    }
   ],
   "source": [
    "spam[-1]"
   ]
  },
  {
   "cell_type": "raw",
   "id": "b3cda95a",
   "metadata": {},
   "source": [
    "5. What is the value of spam[:2]?\n",
    "\n",
    "--> It would give ['a','b'] as it designates starting from zero index position to 2 but excluding third index position which is 2 as spam has 0,1,2,3 index positions and the result is also as shown below"
   ]
  },
  {
   "cell_type": "code",
   "execution_count": 6,
   "id": "a6595006",
   "metadata": {},
   "outputs": [
    {
     "data": {
      "text/plain": [
       "['a', 'b']"
      ]
     },
     "execution_count": 6,
     "metadata": {},
     "output_type": "execute_result"
    }
   ],
   "source": [
    "spam[:2]"
   ]
  },
  {
   "cell_type": "raw",
   "id": "623416ae",
   "metadata": {},
   "source": [
    "Let's pretend bacon has the list [3.14, 'cat,' 11, 'cat,' True] for the next three questions.\n",
    "\n",
    "# Given bacon = [3.14, 'cat,' 11, 'cat,' True] but I have modified bacon = [3.14, 'cat', 11, 'cat', True] as the comma is to be mentioned after the 'cat' string rather than inside."
   ]
  },
  {
   "cell_type": "raw",
   "id": "9c21821d",
   "metadata": {},
   "source": [
    "6. What is the value of bacon.index('cat')?\n",
    "\n",
    "--> It would give 1 as the output as 'cat' appears first at index position 1 and then the second time at 3 index position - \"it outputs the first occurence of 'cat' hence 1\""
   ]
  },
  {
   "cell_type": "code",
   "execution_count": 7,
   "id": "d82aec82",
   "metadata": {},
   "outputs": [
    {
     "data": {
      "text/plain": [
       "1"
      ]
     },
     "execution_count": 7,
     "metadata": {},
     "output_type": "execute_result"
    }
   ],
   "source": [
    "bacon = [3.14, 'cat', 11, 'cat', True]\n",
    "bacon.index('cat')"
   ]
  },
  {
   "cell_type": "raw",
   "id": "af091268",
   "metadata": {},
   "source": [
    "7. How does bacon.append(99) change the look of the list value in bacon?\n",
    "\n",
    "--> it would give bacon = [3.14, 'cat', 11, 'cat', True, 99] - as append always adds an element to the list only at last position or only to the end of list. Also shown below:"
   ]
  },
  {
   "cell_type": "code",
   "execution_count": 8,
   "id": "514d0365",
   "metadata": {},
   "outputs": [],
   "source": [
    "bacon.append(99)"
   ]
  },
  {
   "cell_type": "code",
   "execution_count": 9,
   "id": "eae48987",
   "metadata": {},
   "outputs": [
    {
     "data": {
      "text/plain": [
       "[3.14, 'cat', 11, 'cat', True, 99]"
      ]
     },
     "execution_count": 9,
     "metadata": {},
     "output_type": "execute_result"
    }
   ],
   "source": [
    "bacon"
   ]
  },
  {
   "cell_type": "raw",
   "id": "ec09ff23",
   "metadata": {},
   "source": [
    "8. How does bacon.remove('cat') change the look of the list in bacon?\n",
    "\n",
    "--> it would give bacon = [3.14, 11, 'cat', True, 99] - because remove only removes the first occurence of the 'cat' value."
   ]
  },
  {
   "cell_type": "code",
   "execution_count": 10,
   "id": "636bc7dd",
   "metadata": {},
   "outputs": [],
   "source": [
    "bacon.remove('cat')"
   ]
  },
  {
   "cell_type": "code",
   "execution_count": 11,
   "id": "5f2a340a",
   "metadata": {},
   "outputs": [
    {
     "data": {
      "text/plain": [
       "[3.14, 11, 'cat', True, 99]"
      ]
     },
     "execution_count": 11,
     "metadata": {},
     "output_type": "execute_result"
    }
   ],
   "source": [
    "bacon"
   ]
  },
  {
   "cell_type": "raw",
   "id": "c3834284",
   "metadata": {},
   "source": [
    "9. What are the list concatenation and list replication operators?\n",
    "\n",
    "--> list concatenation (+) is an operation of adding elements of one list to the elements of another list and making a output newlist which is the combination of both lists and the order in which the elements are in the newlist depend upon the sequence of list passed for a list concatenation operation.\n",
    "Ex.  [1,2] + [3,4] = [1,2,3,4] #Shown below\n",
    "Also [3,4] + [1,2] = [3,4,1,2] #Shown below\n",
    "\n",
    "--> list replication (*) is an operation which outputs a newlist where each element of the list repeats or  certain number of times based on the value entered by end user.\n",
    "Ex. [1,2,3] * 2 = [1,2,3,1,2,3] # Shown Below"
   ]
  },
  {
   "cell_type": "code",
   "execution_count": 12,
   "id": "d01c3797",
   "metadata": {},
   "outputs": [
    {
     "data": {
      "text/plain": [
       "[1, 2, 3, 4]"
      ]
     },
     "execution_count": 12,
     "metadata": {},
     "output_type": "execute_result"
    }
   ],
   "source": [
    "[1,2] + [3,4] #list concatenation"
   ]
  },
  {
   "cell_type": "code",
   "execution_count": 13,
   "id": "a7e9e0af",
   "metadata": {},
   "outputs": [
    {
     "data": {
      "text/plain": [
       "[3, 4, 1, 2]"
      ]
     },
     "execution_count": 13,
     "metadata": {},
     "output_type": "execute_result"
    }
   ],
   "source": [
    "[3,4] + [1,2] #list concatenation"
   ]
  },
  {
   "cell_type": "code",
   "execution_count": 14,
   "id": "f6846293",
   "metadata": {},
   "outputs": [
    {
     "data": {
      "text/plain": [
       "[1, 2, 3, 1, 2, 3]"
      ]
     },
     "execution_count": 14,
     "metadata": {},
     "output_type": "execute_result"
    }
   ],
   "source": [
    "[1,2,3] * 2 #list replication"
   ]
  },
  {
   "cell_type": "raw",
   "id": "f73cc9a6",
   "metadata": {},
   "source": [
    "10. What is difference between the list methods append() and insert()?\n",
    "\n",
    "--> append() method allows us to add an element only to the end of the list or adds an element to the list only at last position.\n",
    "--> insert() method allows us to add an element at any specific index of the list."
   ]
  },
  {
   "cell_type": "raw",
   "id": "a2146966",
   "metadata": {},
   "source": [
    "11. What are the two methods for removing items from a list?\n",
    "\n",
    "--> remove(): remove() method removes the very first occurence of the element matching from the list.\n",
    "--> pop(): pop() method removes an element from the list based on the index position given."
   ]
  },
  {
   "cell_type": "raw",
   "id": "e31a8a85",
   "metadata": {},
   "source": [
    "12. Describe how list values and string values are identical.\n",
    "\n",
    "--> Lists are identical to strings as both are ordered sequences.\n",
    "Lists are ordered sequence collection of objects/elements which can be of any data type whereas strings are ordered sequence of characters."
   ]
  },
  {
   "cell_type": "raw",
   "id": "649f74f3",
   "metadata": {},
   "source": [
    "13. What's the difference between tuples and lists?\n",
    "\n",
    "--> The main difference between tuples and lists is that, lists are ordered sequence collection of mutable objects/elements whereas tuples are ordered sequence collection of immutable objects/elements.\n",
    "--> Tuple values cannot be modified/changed but lists values can be modified/changed."
   ]
  },
  {
   "cell_type": "raw",
   "id": "cfbeba2e",
   "metadata": {},
   "source": [
    "14. How do you type a tuple value that only contains the integer 42?\n",
    "\n",
    "--> It can be done by adding a comma beside 42 and enclosing within round brackets.\n",
    "Ex. a = (42,) #Shown below"
   ]
  },
  {
   "cell_type": "code",
   "execution_count": 15,
   "id": "63144a67",
   "metadata": {},
   "outputs": [],
   "source": [
    "a = (42,)"
   ]
  },
  {
   "cell_type": "code",
   "execution_count": 16,
   "id": "f73a6e18",
   "metadata": {},
   "outputs": [
    {
     "data": {
      "text/plain": [
       "tuple"
      ]
     },
     "execution_count": 16,
     "metadata": {},
     "output_type": "execute_result"
    }
   ],
   "source": [
    "type(a)"
   ]
  },
  {
   "cell_type": "raw",
   "id": "6cc1b688",
   "metadata": {},
   "source": [
    "15. How do you get a list value's tuple form? How do you get a tuple value's list form?\n",
    "\n",
    "--> To get a list value's tuple form typecasting to a tuple can be done by tuple(list_name)\n",
    "--> Similarly to get a tuple value's list form typecasting to a list can be done by list[(tuple1),(tuple2),...(tuplen)]"
   ]
  },
  {
   "cell_type": "raw",
   "id": "fedb83e1",
   "metadata": {},
   "source": [
    "16. Variables that \"contain\" list values are not necessarily lists themselves. Instead, what do they contain?\n",
    "\n",
    "--> Variables will contain references to list values rather than list values themselves.\n",
    "--> Whenever variables store values of mutable datatypes such as lists or dictionary python uses references, whereas for immutable datatypes such as strings, integers or tuples python variables stores the values itself."
   ]
  },
  {
   "cell_type": "raw",
   "id": "a18b622d",
   "metadata": {},
   "source": [
    "17. How do you distinguish between copy.copy() and copy.deepcopy()?\n",
    "\n",
    "--> To make copy we use copy module\n",
    "--> copy.copy() is called as shallow copy which creates a reference to the original copy, if any changes are made to the copied object the same is reflected in the original copy too.\n",
    "--> In copy.deepcopy() a copy of object is copied in another object. Any changes made to a copy of object \"do not reflect\" in the original object."
   ]
  }
 ],
 "metadata": {
  "kernelspec": {
   "display_name": "Python 3",
   "language": "python",
   "name": "python3"
  },
  "language_info": {
   "codemirror_mode": {
    "name": "ipython",
    "version": 3
   },
   "file_extension": ".py",
   "mimetype": "text/x-python",
   "name": "python",
   "nbconvert_exporter": "python",
   "pygments_lexer": "ipython3",
   "version": "3.8.8"
  }
 },
 "nbformat": 4,
 "nbformat_minor": 5
}
