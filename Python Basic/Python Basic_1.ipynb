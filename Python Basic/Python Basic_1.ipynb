{
 "cells": [
  {
   "cell_type": "raw",
   "id": "45d863a0",
   "metadata": {},
   "source": [
    "1. In the below elements which of them are values or an expression? eg:- values can be integer or string and expressions will be mathematical operators.\n",
    "\n",
    "*        --> Is an expression (Mulitplication Operator)\n",
    "'hello'  --> Is a string value\n",
    "-87.8    --> Is an Integer value \n",
    "-        --> Is an expression (Subraction/Minus Operator)\n",
    "/        --> Is an expression (Division Operator)\n",
    "+        --> Is an expression (Addition Operator)\n",
    "6        --> Is a integer value\n"
   ]
  },
  {
   "cell_type": "raw",
   "id": "1f287bd7",
   "metadata": {},
   "source": [
    "2. What is the difference between string and variable?\n",
    "\n",
    "--> String: It is a ordered sequence of Characters enclosed within single or double quotes. Ex: \"Hello\",'Manjunath'.\n",
    "--> Variable: It is a symbolic name or reference that has a reserved memory location that holds or stores a value that         can be any data type. Ex. a=1, b = 'Man'"
   ]
  },
  {
   "cell_type": "raw",
   "id": "404927a2",
   "metadata": {},
   "source": [
    "3. Describe three different data types.\n",
    "\n",
    "--> Integers - int - Whole Numbers such as: 3,300,500\n",
    "--> Floating-Point Numbers - float - Numbers with Decimal Point such as : 2.5,3.17\n",
    "--> Strings - str - ordered sequence of Characters enclosed within single or double quotes such as \"Hello\",'Manjunath'\n",
    "--> Lists - list - Ordered Sequence of collection of Objects such as [1,2,3,4], [\"Home\", \"Star\", 2.4]\n",
    "--> Dictionaries - dict - Unordered Key Value Pairs such as {\"key1\" : \"Hello\",\"name\": \"Manjunath}\n",
    "--> Tuples - tup - Ordered immutable sequence of Objects such as (10,\"Hello\",2.5)\n",
    "--> Sets - set - Unordered collection of unique objects such as {1,2,\"Hello\"}\n",
    "--> Booleans - bool - Logical Value indicating True or False"
   ]
  },
  {
   "cell_type": "raw",
   "id": "bdde0b4e",
   "metadata": {},
   "source": [
    "4. What is an expression made up of? What do all expressions do?\n",
    "\n",
    "--> An expression is a combination of operators and operands that is interpreted to produce some other value. Python expressions only contain identifiers, literals, and operators.\n",
    "\n",
    "Identifiers: Any name that is used to define a class, function, variable module, or object is an identifier.\n",
    "\n",
    "Literals: These are language-independent terms in Python and should exist independently in any programming language. In Python, there are the string literals, byte literals, integer literals, floating point literals, and imaginary literals.\n",
    "\n",
    "Operators: Performing arithmetic operations (+,*,/,-,%,**), comparisons like greater than, less than, equal to, not equal to, etc.\n",
    "\n",
    "# What do all expressions do?\n",
    "\n",
    "--> Expressions are used to compute and to assign values to variables and to help control the execution flow of a program.\n",
    "Also, an Expression always evaluates to a value"
   ]
  },
  {
   "cell_type": "raw",
   "id": "a5e0be36",
   "metadata": {},
   "source": [
    "5. This assignment statements, like spam = 10. What is the difference between an expression and a statement?\n",
    "\n",
    "--> An expression is a combination of operators and operands that is interpreted to produce some other value.\n",
    "--> Any Instruction that a python interpreter can execute (carry out) is called a Statement.\n",
    "(or)\n",
    "Each and every line of code that we write in any programming language is called a statement.\n",
    "Because, all the lines are executable by the interpreter or the compiler of that programming language."
   ]
  },
  {
   "cell_type": "code",
   "execution_count": 1,
   "id": "4046faa2",
   "metadata": {},
   "outputs": [
    {
     "name": "stdout",
     "output_type": "stream",
     "text": [
      "bacon contains 22\n"
     ]
    }
   ],
   "source": [
    "# 6. After running the following code, what does the variable bacon contain?\n",
    "#Case 1 --> if bacon = 22, bacon+1 gives 23 but the bacon variable is not yet assigned as bacon = bacon + 1, so bacon=22 answer\n",
    "bacon = 22\n",
    "bacon+1\n",
    "print(\"bacon contains\",bacon)"
   ]
  },
  {
   "cell_type": "code",
   "execution_count": 2,
   "id": "92c12264",
   "metadata": {},
   "outputs": [
    {
     "name": "stdout",
     "output_type": "stream",
     "text": [
      "bacon contains 23\n"
     ]
    }
   ],
   "source": [
    "#Case 2 --> if we assign  bacon = bacon + 1 then bacon variable will contain 23 \n",
    "bacon = bacon + 1\n",
    "print(\"bacon contains\",bacon)"
   ]
  },
  {
   "cell_type": "raw",
   "id": "dd03a494",
   "metadata": {},
   "source": [
    "7. What should the values of the following two terms be?\n",
    "'spam' + 'spamspam' --> 'spamspamspam'\n",
    "'spam' * 3          --> 'spamspamspam'"
   ]
  },
  {
   "cell_type": "code",
   "execution_count": 3,
   "id": "7e62da14",
   "metadata": {},
   "outputs": [
    {
     "data": {
      "text/plain": [
       "'spamspamspam'"
      ]
     },
     "execution_count": 3,
     "metadata": {},
     "output_type": "execute_result"
    }
   ],
   "source": [
    "'spam' + 'spamspam'"
   ]
  },
  {
   "cell_type": "code",
   "execution_count": 4,
   "id": "1ff299c1",
   "metadata": {},
   "outputs": [
    {
     "data": {
      "text/plain": [
       "'spamspamspam'"
      ]
     },
     "execution_count": 4,
     "metadata": {},
     "output_type": "execute_result"
    }
   ],
   "source": [
    "'spam' * 3"
   ]
  },
  {
   "cell_type": "raw",
   "id": "a0e4db6f",
   "metadata": {},
   "source": [
    "8. Why is eggs a valid variable name while 100 is invalid?\n",
    "\n",
    "--> eggs is a valid variable name because it doesn't start with a integer number whereas 100 is an integer and variable names cannot start with an integer hence # 100 is invalid and eggs a valid variable name."
   ]
  },
  {
   "cell_type": "raw",
   "id": "e9bec9b2",
   "metadata": {},
   "source": [
    "9. What three functions can be used to get the integer, floating-point number, or string version of a value?\n",
    "\n",
    "--> for integer - int()\n",
    "--> for floating-point number - float()\n",
    "--> for string version - str()"
   ]
  },
  {
   "cell_type": "code",
   "execution_count": 5,
   "id": "20ecbf9a",
   "metadata": {},
   "outputs": [
    {
     "name": "stdout",
     "output_type": "stream",
     "text": [
      "10\n"
     ]
    }
   ],
   "source": [
    "a = input()"
   ]
  },
  {
   "cell_type": "code",
   "execution_count": 6,
   "id": "249d42ca",
   "metadata": {},
   "outputs": [
    {
     "data": {
      "text/plain": [
       "str"
      ]
     },
     "execution_count": 6,
     "metadata": {},
     "output_type": "execute_result"
    }
   ],
   "source": [
    "type(a)"
   ]
  },
  {
   "cell_type": "code",
   "execution_count": 7,
   "id": "c355cda2",
   "metadata": {},
   "outputs": [
    {
     "data": {
      "text/plain": [
       "10"
      ]
     },
     "execution_count": 7,
     "metadata": {},
     "output_type": "execute_result"
    }
   ],
   "source": [
    "int(a)"
   ]
  },
  {
   "cell_type": "code",
   "execution_count": 8,
   "id": "91d0fd7b",
   "metadata": {},
   "outputs": [
    {
     "data": {
      "text/plain": [
       "int"
      ]
     },
     "execution_count": 8,
     "metadata": {},
     "output_type": "execute_result"
    }
   ],
   "source": [
    "type(int(a))"
   ]
  },
  {
   "cell_type": "code",
   "execution_count": 9,
   "id": "5aa6d073",
   "metadata": {},
   "outputs": [
    {
     "data": {
      "text/plain": [
       "10.0"
      ]
     },
     "execution_count": 9,
     "metadata": {},
     "output_type": "execute_result"
    }
   ],
   "source": [
    "float(a)"
   ]
  },
  {
   "cell_type": "code",
   "execution_count": 10,
   "id": "0422bf2e",
   "metadata": {},
   "outputs": [
    {
     "data": {
      "text/plain": [
       "float"
      ]
     },
     "execution_count": 10,
     "metadata": {},
     "output_type": "execute_result"
    }
   ],
   "source": [
    "type(float(a))"
   ]
  },
  {
   "cell_type": "code",
   "execution_count": 11,
   "id": "3c233063",
   "metadata": {},
   "outputs": [
    {
     "data": {
      "text/plain": [
       "'10'"
      ]
     },
     "execution_count": 11,
     "metadata": {},
     "output_type": "execute_result"
    }
   ],
   "source": [
    "str(a)"
   ]
  },
  {
   "cell_type": "code",
   "execution_count": 12,
   "id": "ba1b2937",
   "metadata": {},
   "outputs": [
    {
     "data": {
      "text/plain": [
       "str"
      ]
     },
     "execution_count": 12,
     "metadata": {},
     "output_type": "execute_result"
    }
   ],
   "source": [
    "type(str(a))"
   ]
  },
  {
   "cell_type": "raw",
   "id": "58c9d0f7",
   "metadata": {},
   "source": [
    "10. Why does this expression cause an error? How can you fix it?\n",
    "'I have eaten ' + 99 + ' burritos.'\n",
    "\n",
    "--> String concatenation can only be done using strings with + operator, as in the above expression 99 is an integer not a string so,\n",
    " 'I have eaten ' + '99' + ' burritos.' - will work fine as now 99 is taken in string format."
   ]
  },
  {
   "cell_type": "code",
   "execution_count": 13,
   "id": "df1addb0",
   "metadata": {},
   "outputs": [
    {
     "data": {
      "text/plain": [
       "'I have eaten 99 burritos.'"
      ]
     },
     "execution_count": 13,
     "metadata": {},
     "output_type": "execute_result"
    }
   ],
   "source": [
    " 'I have eaten ' + str(99) + ' burritos.'"
   ]
  },
  {
   "cell_type": "code",
   "execution_count": null,
   "id": "4629dc05",
   "metadata": {},
   "outputs": [],
   "source": []
  }
 ],
 "metadata": {
  "kernelspec": {
   "display_name": "Python 3",
   "language": "python",
   "name": "python3"
  },
  "language_info": {
   "codemirror_mode": {
    "name": "ipython",
    "version": 3
   },
   "file_extension": ".py",
   "mimetype": "text/x-python",
   "name": "python",
   "nbconvert_exporter": "python",
   "pygments_lexer": "ipython3",
   "version": "3.8.8"
  }
 },
 "nbformat": 4,
 "nbformat_minor": 5
}
