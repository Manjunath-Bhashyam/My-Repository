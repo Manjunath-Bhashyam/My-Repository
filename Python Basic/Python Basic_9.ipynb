{
 "cells": [
  {
   "cell_type": "raw",
   "id": "630b1a6f",
   "metadata": {},
   "source": [
    "1. To what does a relative path refer?\n",
    "\n",
    "--> There are two ways to specify a file path: Absolute Path, Relative Path\n",
    "--> Relative Path specifies the filepath which is relative to the program's current working directory."
   ]
  },
  {
   "cell_type": "raw",
   "id": "63ba013b",
   "metadata": {},
   "source": [
    "2. What does an absolute path start with your operating system?\n",
    "\n",
    "--> Absolute Path specifies the file path which always begins with the root folder.\n",
    "--> For a windows operating system the absolute file path starts with C:\\ and for Linux it is /."
   ]
  },
  {
   "cell_type": "raw",
   "id": "543c294e",
   "metadata": {},
   "source": [
    "3. What do the functions os.getcwd() and os.chdir() do?\n",
    "\n",
    "--> os.getcwd() gives us the current working directory as a string value\n",
    "--> os.chdir() enables us to change the current working directory."
   ]
  },
  {
   "cell_type": "code",
   "execution_count": 1,
   "id": "7c7062fe",
   "metadata": {},
   "outputs": [],
   "source": [
    "import os"
   ]
  },
  {
   "cell_type": "code",
   "execution_count": 2,
   "id": "b03a7a4f",
   "metadata": {},
   "outputs": [],
   "source": [
    "os.chdir('C:\\\\Users\\\\manju\\\\OneDrive\\\\Documents')"
   ]
  },
  {
   "cell_type": "code",
   "execution_count": 3,
   "id": "ab6f4b8b",
   "metadata": {},
   "outputs": [
    {
     "data": {
      "text/plain": [
       "'C:\\\\Users\\\\manju\\\\OneDrive\\\\Documents'"
      ]
     },
     "execution_count": 3,
     "metadata": {},
     "output_type": "execute_result"
    }
   ],
   "source": [
    "os.getcwd()"
   ]
  },
  {
   "cell_type": "raw",
   "id": "b48785e3",
   "metadata": {},
   "source": [
    "4. What are the . and .. folders?\n",
    "\n",
    "--> The . and .. folders are not real folders but special names that can be used in a path. A single period (“dot”)\n",
    "for a folder name is shorthand for “this directory.” Two periods (“dot-dot”) means “the parent folder.”"
   ]
  },
  {
   "cell_type": "raw",
   "id": "d3132aa1",
   "metadata": {},
   "source": [
    "5. In C:\\bacon\\eggs\\spam.txt, which part is the dir name, and which part is the base name?\n",
    "\n",
    "--> the dir name is the everything that comes before the last slash in the path argument and base name is everything that comes after the last slash which is same as the filename.\n",
    "--> In C:\\bacon\\eggs\\spam.txt - the dir name is C:\\bacon\\eggs and base name is spam.txt\n",
    "Also shown below"
   ]
  },
  {
   "cell_type": "code",
   "execution_count": 14,
   "id": "a44272f7",
   "metadata": {},
   "outputs": [],
   "source": [
    "path = 'C:\\\\bacon\\\\eggs\\\\spam.txt'"
   ]
  },
  {
   "cell_type": "code",
   "execution_count": 15,
   "id": "fb7464e0",
   "metadata": {},
   "outputs": [
    {
     "data": {
      "text/plain": [
       "'spam.txt'"
      ]
     },
     "execution_count": 15,
     "metadata": {},
     "output_type": "execute_result"
    }
   ],
   "source": [
    "os.path.basename(path)"
   ]
  },
  {
   "cell_type": "code",
   "execution_count": 16,
   "id": "04fbb2d5",
   "metadata": {},
   "outputs": [
    {
     "data": {
      "text/plain": [
       "'C:\\\\bacon\\\\eggs'"
      ]
     },
     "execution_count": 16,
     "metadata": {},
     "output_type": "execute_result"
    }
   ],
   "source": [
    "os.path.dirname(path)"
   ]
  },
  {
   "cell_type": "raw",
   "id": "f74f0f71",
   "metadata": {},
   "source": [
    "6. What are the three “mode” arguments that can be passed to the open() function?\n",
    "\n",
    "--> r: Opens the file in read-only mode. Starts reading from the beginning of the file and is the default mode for the open() function\n",
    "--> w: Opens in write-only mode. The pointer is placed at the beginning of the file and this will overwrite any existing file with the same name. It will create a new file if one with the same name doesn't exist.\n",
    "--> r+: Opens a file for reading and writing, placing the pointer at the beginning of the file.\n",
    "--> rb: Opens the file as read-only in binary format and starts reading from the beginning of the file. It is usually used when dealing with images, videos, etc.\n",
    "--> a: Opens a file for appending new information to it. The pointer is placed at the end of the file. A new file is created if one with the same name doesn't exist.\n"
   ]
  },
  {
   "cell_type": "raw",
   "id": "cc243b36",
   "metadata": {},
   "source": [
    "7. What happens if an existing file is opened in write mode?\n",
    "\n",
    "--> If an existing file is opened in write-only mode, the pointer is placed at the beginning of the file and this will overwrite the existing file with the same name.\n",
    "--> It will create a new file if one with the same name doesn't exist."
   ]
  },
  {
   "cell_type": "raw",
   "id": "4db1c219",
   "metadata": {},
   "source": [
    "8. How do you tell the difference between read() and readlines()?\n",
    "\n",
    "--> read() reads the entire contents of the file into a string and a readlines() returns a list of lines (strings)."
   ]
  },
  {
   "cell_type": "raw",
   "id": "6bdc962a",
   "metadata": {},
   "source": [
    "9. What data structure does a shelf value resemble?\n",
    "\n",
    "--> A shelf value resembles dictionary data structure as they have keys() and values() pairs that will return list-like values of the keys and values in the shelf."
   ]
  }
 ],
 "metadata": {
  "kernelspec": {
   "display_name": "Python 3",
   "language": "python",
   "name": "python3"
  },
  "language_info": {
   "codemirror_mode": {
    "name": "ipython",
    "version": 3
   },
   "file_extension": ".py",
   "mimetype": "text/x-python",
   "name": "python",
   "nbconvert_exporter": "python",
   "pygments_lexer": "ipython3",
   "version": "3.8.8"
  }
 },
 "nbformat": 4,
 "nbformat_minor": 5
}
