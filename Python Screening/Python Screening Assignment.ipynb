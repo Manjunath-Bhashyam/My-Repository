{
 "cells": [
  {
   "cell_type": "raw",
   "id": "2a1757ad",
   "metadata": {},
   "source": [
    "1. Create a function in python to read the text file and replace specific content of the file.\n",
    "\n",
    "Given \n",
    "\n",
    "--> filename                  : example.txt\n",
    "--> Original File Content     : This is a placement assignment\n",
    "--> Replace String            : Placement should be replaced by screening.\n",
    "--> Replaced file content     : This is a screening assignment"
   ]
  },
  {
   "cell_type": "code",
   "execution_count": 1,
   "id": "744207f1",
   "metadata": {},
   "outputs": [],
   "source": [
    "\"\"\"Below Function requires initially a text file with content already available\"\"\"\n",
    "\n",
    "import logging\n",
    "logging.basicConfig(filename=\"task.log\", level=logging.DEBUG, format='%(asctime)s %(levelname)s %(message)s')\n",
    "\n",
    "class Replacer:\n",
    "    \n",
    "    def __init__(self):\n",
    "        pass\n",
    "    \n",
    "    def replacecontent(self):\n",
    "        \"\"\"Function reads the text file and replaces with new string/content to the file\"\"\"\n",
    "        try:\n",
    "            filename = input(\"Enter text filename\")+'.txt'\n",
    "            logging.info(f\"Function is working with this {filename} file\")\n",
    "            \n",
    "            search_string = str(input(\"Enter the string/content to be searched and replaced\"))\n",
    "            logging.info(f\"string to be searched and replaced is {search_string}\")\n",
    "            \n",
    "            replace_string = str(input(\"Enter new string/content\"))\n",
    "            logging.info(f\"new string to be placed is {replace_string}\")\n",
    "            \n",
    "            with open(filename,mode='r') as textfile:\n",
    "                file = textfile.read()\n",
    "                logging.info(\"Provided text file is read successfully\")\n",
    "                \n",
    "                file = file.replace(search_string,replace_string)\n",
    "                logging.info(f\"Replacing {search_string} with {replace_string}\")\n",
    "                \n",
    "            with open(filename,mode='w') as textfile:\n",
    "                textfile.write(file)\n",
    "                print(\"Successfully Updated - Please check your text file\")\n",
    "                logging.info(f\"New string replaced in {filename} textfile\")\n",
    "                \n",
    "        except Exception as e:\n",
    "            logging.error(\"Error occured : \" + str(e))\n",
    "            "
   ]
  },
  {
   "cell_type": "code",
   "execution_count": 2,
   "id": "0c663d65",
   "metadata": {},
   "outputs": [],
   "source": [
    "myreplacer = Replacer()"
   ]
  },
  {
   "cell_type": "code",
   "execution_count": 3,
   "id": "66768db7",
   "metadata": {},
   "outputs": [
    {
     "name": "stdout",
     "output_type": "stream",
     "text": [
      "Enter text filenameexample\n",
      "Enter the string/content to be searched and replacedscreening\n",
      "Enter new string/contentplacement\n",
      "Successfully Updated - Please check your text file\n"
     ]
    }
   ],
   "source": [
    "myreplacer.replacecontent()"
   ]
  },
  {
   "cell_type": "code",
   "execution_count": null,
   "id": "6923c427",
   "metadata": {},
   "outputs": [],
   "source": []
  },
  {
   "cell_type": "raw",
   "id": "2742b6bb",
   "metadata": {},
   "source": [
    "2. Demonstrate use of abstract class, multiple inheritance and decorator in python using examples.\n",
    "\n",
    "--> Abstract class: It is a blueprint for other classes and is a class which contains one or more abstract methods. It allows us to create a set of methods that must be created within any child classes built from the abstract class. By defining an abstract base class, we can define a common Application Program Interface(API) for a set of subclasses. Python comes with a module that provides the base for defining Abstract Base classes(ABC) and that module name is ABC. ABC works by decorating methods of the base class as abstract and then registering concrete classes as implementations of the abstract base. A method becomes abstract when decorated with the keyword @abstractmethod."
   ]
  },
  {
   "cell_type": "code",
   "execution_count": 8,
   "id": "9fe4ab22",
   "metadata": {},
   "outputs": [
    {
     "name": "stdout",
     "output_type": "stream",
     "text": [
      "My role as Mech is to design, analyze, manufacture, and maintain mechanical systems\n",
      "My role as EEE is concerned with study, design and application of equipment, devices, and systems which use electricity, electronics and electromagnetism\n",
      "My role as CSE is concerned with computation, programming languages, program design, computer hardware and software\n"
     ]
    }
   ],
   "source": [
    "\"\"\"Example for Abstract class\"\"\"\n",
    "\n",
    "from abc import ABC,abstractmethod\n",
    "\n",
    "class engineering(ABC):\n",
    "    \n",
    "    @abstractmethod\n",
    "    def engineer_role(self):\n",
    "        \"\"\"Specifies the role and scope of work related to the respective engineer\"\"\"\n",
    "        pass\n",
    "    \n",
    "class Mechanical(engineering):\n",
    "    \n",
    "    def engineer_role(self):\n",
    "        print(\"My role as Mech is to design, analyze, manufacture, and maintain mechanical systems\")\n",
    "        \n",
    "class Electrical(engineering):\n",
    "    \n",
    "    def engineer_role(self):\n",
    "        print(\"My role as EEE is concerned with study, design and application of equipment, devices, and systems which use electricity, electronics and electromagnetism\")\n",
    "\n",
    "class ComputerScience(engineering):\n",
    "    \n",
    "    def engineer_role(self):\n",
    "        print(\"My role as CSE is concerned with computation, programming languages, program design, computer hardware and software\")\n",
    "\n",
    "#Check\n",
    "mech = Mechanical()\n",
    "mech.engineer_role()\n",
    "\n",
    "eee = Electrical()\n",
    "eee.engineer_role()\n",
    "\n",
    "cse = ComputerScience()\n",
    "cse.engineer_role()"
   ]
  },
  {
   "cell_type": "raw",
   "id": "1f58a578",
   "metadata": {},
   "source": [
    "--> Multiple Inheritance: Inheritance is the mechanism to achieve the re-usability of code as one child class can derive the properties of parent class. When a class is derived from more than one base class it is called \"Multiple Inheritance\". The derived class inherits all the features of the base class."
   ]
  },
  {
   "cell_type": "code",
   "execution_count": 16,
   "id": "01b2679d",
   "metadata": {},
   "outputs": [
    {
     "name": "stdout",
     "output_type": "stream",
     "text": [
      "a 1\n",
      "b 2\n",
      "c 3\n",
      "This is my test method in xyz class\n",
      "p 4\n",
      "q 5\n",
      "r 6\n",
      "This is my test method in xyz1 class\n"
     ]
    }
   ],
   "source": [
    "\"\"\"Example for Multiple Inheritance\"\"\"\n",
    "\n",
    "class xyz:\n",
    "    def __init__(self,a,b,c):\n",
    "        self.a = a\n",
    "        self.b = b\n",
    "        self.c = c\n",
    "    def test(self):\n",
    "        print(\"This is my test method in xyz class\")\n",
    "        \n",
    "class xyz1:\n",
    "    def __init__(self,p,q,r):\n",
    "        self.p = p\n",
    "        self.q = q\n",
    "        self.r = r\n",
    "    def test1(self):\n",
    "        print(\"This is my test method in xyz1 class\")\n",
    "        \n",
    "class child(xyz1,xyz):\n",
    "    def __init__(self,*args,**kwargs):\n",
    "        xyz.__init__(self,*args)\n",
    "        xyz1.__init__(self,**kwargs)\n",
    "        \n",
    "\n",
    "result = child(1,2,3,p=4,q=5,r=6)\n",
    "print('a',result.a)\n",
    "print('b',result.b)\n",
    "print('c',result.c)\n",
    "result.test()\n",
    "print('p',result.p)\n",
    "print('q',result.q)\n",
    "print('r',result.r)\n",
    "result.test1()"
   ]
  },
  {
   "cell_type": "raw",
   "id": "89d4c58f",
   "metadata": {},
   "source": [
    "--> Decorators: Decorators are used to modify the behaviour of function or class. They allow us to wrap another function in order to extend the behaviour of the wrapped function, without permanently modifying it."
   ]
  },
  {
   "cell_type": "code",
   "execution_count": 19,
   "id": "6cb776b6",
   "metadata": {},
   "outputs": [],
   "source": [
    "\"\"\"Example for Decorators - passing function as a parameter\"\"\"\n",
    "\n",
    "def automobile(func):\n",
    "    \n",
    "    def two_wheeler():\n",
    "        print(\"I am a two wheeler vehicle and I have only two wheels\")\n",
    "        func()\n",
    "    return two_wheeler()\n",
    "\n",
    "#Giving the below function as a parameter\n",
    "\n",
    "def fuel():\n",
    "    print(\"I accept only petrol\")"
   ]
  },
  {
   "cell_type": "code",
   "execution_count": 20,
   "id": "4efa2290",
   "metadata": {},
   "outputs": [
    {
     "name": "stdout",
     "output_type": "stream",
     "text": [
      "I am a two wheeler vehicle and I have only two wheels\n",
      "I accept only petrol\n"
     ]
    }
   ],
   "source": [
    "# Check\n",
    "\n",
    "automobile(fuel)"
   ]
  },
  {
   "cell_type": "markdown",
   "id": "c7253eb5",
   "metadata": {},
   "source": [
    "#### The same can be achieved also as below without modifying fuel function"
   ]
  },
  {
   "cell_type": "code",
   "execution_count": 22,
   "id": "6e3ff021",
   "metadata": {},
   "outputs": [
    {
     "name": "stdout",
     "output_type": "stream",
     "text": [
      "I am a two wheeler vehicle and I have only two wheels\n",
      "I accept only petrol\n"
     ]
    }
   ],
   "source": [
    "@automobile\n",
    "def fuel():\n",
    "    print(\"I accept only petrol\")"
   ]
  },
  {
   "cell_type": "code",
   "execution_count": null,
   "id": "6327101b",
   "metadata": {},
   "outputs": [],
   "source": []
  }
 ],
 "metadata": {
  "kernelspec": {
   "display_name": "Python 3",
   "language": "python",
   "name": "python3"
  },
  "language_info": {
   "codemirror_mode": {
    "name": "ipython",
    "version": 3
   },
   "file_extension": ".py",
   "mimetype": "text/x-python",
   "name": "python",
   "nbconvert_exporter": "python",
   "pygments_lexer": "ipython3",
   "version": "3.8.8"
  }
 },
 "nbformat": 4,
 "nbformat_minor": 5
}
